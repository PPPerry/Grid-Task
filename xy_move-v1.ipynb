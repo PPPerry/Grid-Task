{
 "cells": [
  {
   "cell_type": "code",
   "execution_count": 45,
   "metadata": {},
   "outputs": [],
   "source": [
    "from __future__ import print_function"
   ]
  },
  {
   "cell_type": "code",
   "execution_count": 46,
   "metadata": {},
   "outputs": [],
   "source": [
    "import numpy as np\n",
    "from scipy.linalg import expm\n",
    "import random\n",
    "\n",
    "class move_gym():\n",
    "    def __init__(self):\n",
    "        self.scope = 2.0\n",
    "        self.states = 6\n",
    "        self.actions = 4\n",
    "    def reset( self, s = [] ):\n",
    "        if np.array( s ).shape[0] == 0:\n",
    "\n",
    "            self.obstacle_x = np.random.randint( int(-self.scope*10), int(self.scope*10) )*0.1\n",
    "            self.obstacle_y = np.random.randint( int(-self.scope*10), int(self.scope*10) )*0.1\n",
    "\n",
    "            self.move_x = np.random.randint( int(-self.scope*10), int(self.scope*10) )*0.1\n",
    "            self.move_y = np.random.randint( int(-self.scope*10), int(self.scope*10) )*0.1  \n",
    "            while ( abs(self.obstacle_x-self.move_x) < 1.05 ) & ( abs(self.obstacle_y-self.move_y) < 1.05 ):\n",
    "                self.move_x = np.random.randint( int(-self.scope*10), int(self.scope*10) )*0.1\n",
    "                self.move_y = np.random.randint( int(-self.scope*10), int(self.scope*10) )*0.1      \n",
    "\n",
    "            self.target_x = np.random.randint( int(-self.scope*10), int(self.scope*10) )*0.1\n",
    "            self.target_y = np.random.randint( int(-self.scope*10), int(self.scope*10) )*0.1\n",
    "            while (  ( abs(self.obstacle_x-self.target_x) < 1.05 ) & ( abs(self.obstacle_y-self.target_y) < 1.05 )  ) |\\\n",
    "             (  ( abs(self.move_x-self.target_x) < 1.05 ) & ( abs(self.move_y-self.target_y) < 1.05 )  ):\n",
    "                self.target_x = np.random.randint( int(-self.scope*10), int(self.scope*10) )*0.1\n",
    "                self.target_y = np.random.randint( int(-self.scope*10), int(self.scope*10) )*0.1        \n",
    "\n",
    "        else:\n",
    "            self.obstacle_x=s[0]\n",
    "            self.obstacle_y=s[1]\n",
    "            self.target_x=s[2]\n",
    "            self.target_y=s[3]\n",
    "            self.move_x=s[4]\n",
    "            self.move_y=s[5]\n",
    "\n",
    "        state=np.array([ self.obstacle_x, self.obstacle_y, self.target_x, self.target_y, self.move_x, self.move_y ])\n",
    "        return state\n",
    "    def step(self, action):\n",
    "        velocity = 0.2\n",
    "        if action==0: # up down right left\n",
    "            self.move_y+=velocity\n",
    "        if action==1:\n",
    "            self.move_y-=velocity\n",
    "        if action==2:\n",
    "            self.move_x+=velocity\n",
    "        if action==3:\n",
    "            self.move_x-=velocity\n",
    "\n",
    "        if self.move_x > (self.scope+1.0):\n",
    "            self.move_x-=velocity\n",
    "        if self.move_x < (-self.scope-1.0):\n",
    "            self.move_x+=velocity\n",
    "        if self.move_y > (self.scope+1.0):\n",
    "            self.move_y-=velocity\n",
    "        if self.move_y < (-self.scope-1.0):\n",
    "            self.move_y+=velocity\n",
    "        \n",
    "        reward = -0.1\n",
    "        done = False\n",
    "        info = \"^_^\"\n",
    "        if (  ( abs(self.obstacle_x-self.move_x) < 1.05 ) & ( abs(self.obstacle_y-self.move_y) < 1.05 )  ): \n",
    "            reward = -1.0 \n",
    "            done = True\n",
    "            info = \"collision\"\n",
    "\n",
    "        elif (  ( abs(self.target_x-self.move_x) < 1.05 ) & ( abs(self.target_y-self.move_y) < 1.05 )  ):\n",
    "            reward = 1.0\n",
    "            done = True\n",
    "            info = \"reach\"\n",
    "\n",
    "        state=np.array([ self.obstacle_x, self.obstacle_y, self.target_x, self.target_y, self.move_x, self.move_y ])\n",
    "\n",
    "        return state, reward,done,info\n"
   ]
  },
  {
   "cell_type": "code",
   "execution_count": 47,
   "metadata": {},
   "outputs": [
    {
     "name": "stdout",
     "output_type": "stream",
     "text": [
      "create new network weights ...\n"
     ]
    },
    {
     "name": "stderr",
     "output_type": "stream",
     "text": [
      "/home/ubuntu/.local/lib/python3.5/site-packages/tensorflow/python/client/session.py:1702: UserWarning: An interactive session is already active. This can cause out-of-memory errors in some cases. You must explicitly call `InteractiveSession.close()` to release resources held by the other session(s).\n",
      "  warnings.warn('An interactive session is already active. This can '\n"
     ]
    }
   ],
   "source": [
    "import tensorflow as tf\n",
    "import numpy as np\n",
    "from numpy import *\n",
    "import random\n",
    "from collections import deque\n",
    "\n",
    "from tqdm import trange\n",
    "\n",
    "# Hyper Parameters for DQN\n",
    "GAMMA = 0.9 # discount factor for target Q or decay rate\n",
    "INITIAL_EPSILON = 0.5 # starting value of epsilon\n",
    "FINAL_EPSILON = 0.01 # final value of epsilon\n",
    "REPLAY_SIZE = 10000 # experience replay buffer size\n",
    "BATCH_SIZE = 32 # size of minibatch\n",
    "\n",
    "class DQN():\n",
    "    # DQN Agent\n",
    "    def __init__(self, env):\n",
    "        # init experience replay\n",
    "        self.replay_buffer = deque()\n",
    "        # init. some parameters\n",
    "        self.epsilon = INITIAL_EPSILON\n",
    "        # self.state_dim = env.observation_space.shape[0]\n",
    "        self.state_dim = env.states\n",
    "\n",
    "        # self.action_dim = env.action_space.n\n",
    "        self.action_dim = env.actions\n",
    "\n",
    "        self.create_Q_network()\n",
    "        self.create_training_method()\n",
    "\n",
    "        # Init session\n",
    "        self.session = tf.InteractiveSession()\n",
    "        self.session.run(tf.global_variables_initializer())\n",
    "\n",
    "    def create_Q_network(self):\n",
    "        # # a: create new network weights\n",
    "        print (\"create new network weights ...\")\n",
    "        num_hid = 200\n",
    "        self.W1 = self.weight_variable([self.state_dim,num_hid])\n",
    "        self.b1 = self.bias_variable([num_hid])\n",
    "        self.W2 = self.weight_variable([num_hid,num_hid])\n",
    "        self.b2 = self.bias_variable([num_hid])\n",
    "        self.W3 = self.weight_variable([num_hid,self.action_dim])\n",
    "        self.b3= self.bias_variable([self.action_dim])\n",
    "\n",
    "        # # # b: restore old network weights\n",
    "        # print \"restore old network weights ...\"\n",
    "        # self.W1, self.b1, self.W2, self.b2, self.W3, self.b3 = self.restore_wb()\n",
    "\n",
    "\n",
    "        # input layer\n",
    "        self.state_input = tf.placeholder(\"float\",[None,self.state_dim])\n",
    "        # hidden layers\n",
    "        h_layer = tf.nn.relu(tf.matmul(self.state_input,self.W1) + self.b1)\n",
    "        h_layer02 = tf.nn.relu(tf.matmul(h_layer,self.W2) + self.b2)\n",
    "        # Q Value layer\n",
    "        self.Q_value = tf.matmul(h_layer02,self.W3) + self.b3\n",
    "\n",
    "    def create_training_method(self):\n",
    "        self.action_input = tf.placeholder(\"float\",[None,self.action_dim]) # one hot presentation\n",
    "        self.y_input = tf.placeholder(\"float\",[None])\n",
    "        Q_action = tf.reduce_sum(tf.multiply(self.Q_value,self.action_input),reduction_indices = 1)\n",
    "        self.cost = tf.reduce_mean(tf.square(self.y_input - Q_action))\n",
    "        self.optimizer = tf.train.AdamOptimizer(0.0001).minimize(self.cost)\n",
    "\n",
    "    def perceive(self,state,action,reward,next_state,done):\n",
    "        one_hot_action = np.zeros(self.action_dim)\n",
    "        one_hot_action[action] = 1\n",
    "        self.replay_buffer.append((state,one_hot_action,reward,next_state,done))\n",
    "        if len(self.replay_buffer) > REPLAY_SIZE:\n",
    "            self.replay_buffer.popleft()\n",
    "\n",
    "        if len(self.replay_buffer) > BATCH_SIZE:\n",
    "            self.train_Q_network()\n",
    "\n",
    "    def train_Q_network(self):\n",
    "        # Step 1: obtain random minibatch from replay memory\n",
    "        minibatch = random.sample(self.replay_buffer,BATCH_SIZE)\n",
    "        state_batch = [data[0] for data in minibatch]\n",
    "        action_batch = [data[1] for data in minibatch]\n",
    "        reward_batch = [data[2] for data in minibatch]\n",
    "        next_state_batch = [data[3] for data in minibatch]\n",
    "\n",
    "        # Step 2: calculate y\n",
    "        y_batch = []\n",
    "        Q_value_batch = self.Q_value.eval(feed_dict={self.state_input:next_state_batch})\n",
    "        for i in range(0,BATCH_SIZE):\n",
    "            done = minibatch[i][4]\n",
    "            if done:\n",
    "                y_batch.append(reward_batch[i])\n",
    "            else :\n",
    "                y_batch.append(reward_batch[i] + GAMMA * np.max(Q_value_batch[i]))\n",
    "\n",
    "        self.optimizer.run(feed_dict={\n",
    "          self.y_input:y_batch,\n",
    "          self.action_input:action_batch,\n",
    "          self.state_input:state_batch\n",
    "          })\n",
    "\n",
    "    def egreedy_action(self,state):\n",
    "        Q_value = self.Q_value.eval(feed_dict = {\n",
    "          self.state_input:[state]\n",
    "          })[0]\n",
    "        if random.random() < 0.5:\n",
    "            return random.randint(0,self.action_dim - 1)\n",
    "        else:\n",
    "            return np.argmax(Q_value)\n",
    "\n",
    "    def obtain_wb(self):\n",
    "        W1=self.session.run(self.W1)\n",
    "        b1=self.session.run(self.b1)\n",
    "        W2=self.session.run(self.W2)\n",
    "        b2=self.session.run(self.b2)\n",
    "        W3=self.session.run(self.W3)\n",
    "        b3=self.session.run(self.b3)\n",
    "        return W1, b1, W2, b2, W3, b3\n",
    "\n",
    "    def restore_wb(self):\n",
    "        W1 = np.load( \"W1.npy\" )\n",
    "        W2 = np.load( \"W2.npy\" )\n",
    "        W3 = np.load( \"W3.npy\" )\n",
    "\n",
    "        b1 = np.load( \"b1.npy\" )\n",
    "        b2 = np.load( \"b2.npy\" )\n",
    "        b3 = np.load( \"b3.npy\" )        \n",
    "        return tf.Variable(W1), tf.Variable(b1), tf.Variable(W2), tf.Variable(b2), tf.Variable(W3), tf.Variable(b3)\n",
    "    def use_nn(self,state):\n",
    "        return self.Q_value.eval(feed_dict = {\n",
    "          self.state_input:[state]\n",
    "          })\n",
    "\n",
    "    def action(self,state):\n",
    "        return np.argmax(self.Q_value.eval(feed_dict = {\n",
    "          self.state_input:[state]\n",
    "          })[0])\n",
    "\n",
    "    def weight_variable(self,shape):\n",
    "        initial = tf.truncated_normal(shape)\n",
    "        return tf.Variable(initial)\n",
    "\n",
    "    def bias_variable(self,shape):\n",
    "        initial = tf.constant(0.01, shape = shape)\n",
    "        return tf.Variable(initial)\n",
    "    \n",
    "    \n",
    "# Hyper Parameters\n",
    "STEP = 50 # Step limitation in an episode\n",
    "TEST = 10 # The number of experiment for test\n",
    "\n",
    "# initialize env and agent\n",
    "env = move_gym()\n",
    "agent = DQN(env)\n",
    "\n",
    "all_episode = 0\n",
    "all_reward = []"
   ]
  },
  {
   "cell_type": "code",
   "execution_count": 48,
   "metadata": {},
   "outputs": [
    {
     "name": "stderr",
     "output_type": "stream",
     "text": [
      "  0%|          | 2/400000 [00:00<23:12:16,  4.79it/s]"
     ]
    },
    {
     "name": "stdout",
     "output_type": "stream",
     "text": [
      "episode:  0 Evaluation Average Reward: -4.690000000000039\n"
     ]
    },
    {
     "name": "stderr",
     "output_type": "stream",
     "text": [
      "  1%|          | 4002/400000 [09:39<22:04:03,  4.98it/s]"
     ]
    },
    {
     "name": "stdout",
     "output_type": "stream",
     "text": [
      "episode:  4000 Evaluation Average Reward: -3.6100000000000256\n"
     ]
    },
    {
     "name": "stderr",
     "output_type": "stream",
     "text": [
      "  2%|▏         | 8002/400000 [19:44<26:01:35,  4.18it/s]"
     ]
    },
    {
     "name": "stdout",
     "output_type": "stream",
     "text": [
      "episode:  8000 Evaluation Average Reward: -5.000000000000044\n"
     ]
    },
    {
     "name": "stderr",
     "output_type": "stream",
     "text": [
      "  3%|▎         | 12002/400000 [29:35<19:50:55,  5.43it/s]"
     ]
    },
    {
     "name": "stdout",
     "output_type": "stream",
     "text": [
      "episode:  12000 Evaluation Average Reward: -4.6600000000000374\n"
     ]
    },
    {
     "name": "stderr",
     "output_type": "stream",
     "text": [
      "  4%|▍         | 16001/400000 [39:32<20:38:40,  5.17it/s]"
     ]
    },
    {
     "name": "stdout",
     "output_type": "stream",
     "text": [
      "episode:  16000 Evaluation Average Reward: -4.160000000000034\n"
     ]
    },
    {
     "name": "stderr",
     "output_type": "stream",
     "text": [
      "  5%|▌         | 20001/400000 [49:26<17:56:48,  5.88it/s]"
     ]
    },
    {
     "name": "stdout",
     "output_type": "stream",
     "text": [
      "episode:  20000 Evaluation Average Reward: -4.050000000000031\n"
     ]
    },
    {
     "name": "stderr",
     "output_type": "stream",
     "text": [
      "  6%|▌         | 24002/400000 [59:22<22:37:48,  4.62it/s]"
     ]
    },
    {
     "name": "stdout",
     "output_type": "stream",
     "text": [
      "episode:  24000 Evaluation Average Reward: -4.430000000000034\n"
     ]
    },
    {
     "name": "stderr",
     "output_type": "stream",
     "text": [
      "  7%|▋         | 28001/400000 [1:09:22<17:41:30,  5.84it/s]"
     ]
    },
    {
     "name": "stdout",
     "output_type": "stream",
     "text": [
      "episode:  28000 Evaluation Average Reward: -4.630000000000039\n"
     ]
    },
    {
     "name": "stderr",
     "output_type": "stream",
     "text": [
      "  8%|▊         | 32002/400000 [1:19:08<23:13:30,  4.40it/s]"
     ]
    },
    {
     "name": "stdout",
     "output_type": "stream",
     "text": [
      "episode:  32000 Evaluation Average Reward: -3.2400000000000175\n"
     ]
    },
    {
     "name": "stderr",
     "output_type": "stream",
     "text": [
      "  9%|▉         | 36001/400000 [1:28:47<18:48:26,  5.38it/s]"
     ]
    },
    {
     "name": "stdout",
     "output_type": "stream",
     "text": [
      "episode:  36000 Evaluation Average Reward: -4.470000000000038\n"
     ]
    },
    {
     "name": "stderr",
     "output_type": "stream",
     "text": [
      " 10%|█         | 40001/400000 [1:38:14<13:36:57,  7.34it/s]"
     ]
    },
    {
     "name": "stdout",
     "output_type": "stream",
     "text": [
      "episode:  40000 Evaluation Average Reward: -1.359999999999997\n"
     ]
    },
    {
     "name": "stderr",
     "output_type": "stream",
     "text": [
      " 11%|█         | 44004/400000 [1:47:12<16:12:11,  6.10it/s]"
     ]
    },
    {
     "name": "stdout",
     "output_type": "stream",
     "text": [
      "episode:  44000 Evaluation Average Reward: -4.110000000000031\n"
     ]
    },
    {
     "name": "stderr",
     "output_type": "stream",
     "text": [
      " 12%|█▏        | 48002/400000 [1:55:29<19:48:10,  4.94it/s]"
     ]
    },
    {
     "name": "stdout",
     "output_type": "stream",
     "text": [
      "episode:  48000 Evaluation Average Reward: -2.0800000000000054\n"
     ]
    },
    {
     "name": "stderr",
     "output_type": "stream",
     "text": [
      " 13%|█▎        | 52001/400000 [2:03:20<9:36:32, 10.06it/s] "
     ]
    },
    {
     "name": "stdout",
     "output_type": "stream",
     "text": [
      "episode:  52000 Evaluation Average Reward: -2.940000000000016\n"
     ]
    },
    {
     "name": "stderr",
     "output_type": "stream",
     "text": [
      " 14%|█▍        | 56004/400000 [2:10:53<10:44:08,  8.90it/s]"
     ]
    },
    {
     "name": "stdout",
     "output_type": "stream",
     "text": [
      "episode:  56000 Evaluation Average Reward: -1.8099999999999963\n"
     ]
    },
    {
     "name": "stderr",
     "output_type": "stream",
     "text": [
      " 15%|█▌        | 60001/400000 [2:18:11<16:09:07,  5.85it/s]"
     ]
    },
    {
     "name": "stdout",
     "output_type": "stream",
     "text": [
      "episode:  60000 Evaluation Average Reward: -2.430000000000009\n"
     ]
    },
    {
     "name": "stderr",
     "output_type": "stream",
     "text": [
      " 16%|█▌        | 64001/400000 [2:24:53<11:00:49,  8.47it/s]"
     ]
    },
    {
     "name": "stdout",
     "output_type": "stream",
     "text": [
      "episode:  64000 Evaluation Average Reward: -2.8500000000000156\n"
     ]
    },
    {
     "name": "stderr",
     "output_type": "stream",
     "text": [
      " 17%|█▋        | 68002/400000 [2:31:12<8:15:51, 11.16it/s] "
     ]
    },
    {
     "name": "stdout",
     "output_type": "stream",
     "text": [
      "episode:  68000 Evaluation Average Reward: -2.1800000000000073\n"
     ]
    },
    {
     "name": "stderr",
     "output_type": "stream",
     "text": [
      " 18%|█▊        | 72003/400000 [2:37:15<9:50:01,  9.26it/s] "
     ]
    },
    {
     "name": "stdout",
     "output_type": "stream",
     "text": [
      "episode:  72000 Evaluation Average Reward: -2.250000000000004\n"
     ]
    },
    {
     "name": "stderr",
     "output_type": "stream",
     "text": [
      " 19%|█▉        | 76001/400000 [2:42:50<7:31:19, 11.96it/s] "
     ]
    },
    {
     "name": "stdout",
     "output_type": "stream",
     "text": [
      "episode:  76000 Evaluation Average Reward: -0.6199999999999982\n"
     ]
    },
    {
     "name": "stderr",
     "output_type": "stream",
     "text": [
      " 20%|██        | 80002/400000 [2:48:24<9:28:33,  9.38it/s] "
     ]
    },
    {
     "name": "stdout",
     "output_type": "stream",
     "text": [
      "episode:  80000 Evaluation Average Reward: -0.7399999999999979\n"
     ]
    },
    {
     "name": "stderr",
     "output_type": "stream",
     "text": [
      " 21%|██        | 84004/400000 [2:53:54<5:49:16, 15.08it/s] "
     ]
    },
    {
     "name": "stdout",
     "output_type": "stream",
     "text": [
      "episode:  84000 Evaluation Average Reward: -0.7899999999999975\n"
     ]
    },
    {
     "name": "stderr",
     "output_type": "stream",
     "text": [
      " 22%|██▏       | 88002/400000 [2:59:19<12:00:59,  7.21it/s]"
     ]
    },
    {
     "name": "stdout",
     "output_type": "stream",
     "text": [
      "episode:  88000 Evaluation Average Reward: -0.8999999999999961\n"
     ]
    },
    {
     "name": "stderr",
     "output_type": "stream",
     "text": [
      " 23%|██▎       | 92003/400000 [3:04:38<6:54:18, 12.39it/s] "
     ]
    },
    {
     "name": "stdout",
     "output_type": "stream",
     "text": [
      "episode:  92000 Evaluation Average Reward: 0.2199999999999997\n"
     ]
    },
    {
     "name": "stderr",
     "output_type": "stream",
     "text": [
      " 24%|██▍       | 96002/400000 [3:09:39<5:38:24, 14.97it/s] "
     ]
    },
    {
     "name": "stdout",
     "output_type": "stream",
     "text": [
      "episode:  96000 Evaluation Average Reward: -1.1199999999999968\n"
     ]
    },
    {
     "name": "stderr",
     "output_type": "stream",
     "text": [
      " 25%|██▌       | 100002/400000 [3:14:52<9:09:26,  9.10it/s]"
     ]
    },
    {
     "name": "stdout",
     "output_type": "stream",
     "text": [
      "episode:  100000 Evaluation Average Reward: -1.750000000000001\n"
     ]
    },
    {
     "name": "stderr",
     "output_type": "stream",
     "text": [
      " 26%|██▌       | 104002/400000 [3:20:05<8:57:04,  9.19it/s] "
     ]
    },
    {
     "name": "stdout",
     "output_type": "stream",
     "text": [
      "episode:  104000 Evaluation Average Reward: -1.5499999999999943\n"
     ]
    },
    {
     "name": "stderr",
     "output_type": "stream",
     "text": [
      " 27%|██▋       | 108005/400000 [3:25:08<5:27:12, 14.87it/s] "
     ]
    },
    {
     "name": "stdout",
     "output_type": "stream",
     "text": [
      "episode:  108000 Evaluation Average Reward: -1.3799999999999948\n"
     ]
    },
    {
     "name": "stderr",
     "output_type": "stream",
     "text": [
      " 28%|██▊       | 112002/400000 [3:30:11<6:14:21, 12.82it/s] "
     ]
    },
    {
     "name": "stdout",
     "output_type": "stream",
     "text": [
      "episode:  112000 Evaluation Average Reward: 0.03999999999999989\n"
     ]
    },
    {
     "name": "stderr",
     "output_type": "stream",
     "text": [
      " 29%|██▉       | 116004/400000 [3:35:26<4:16:24, 18.46it/s] "
     ]
    },
    {
     "name": "stdout",
     "output_type": "stream",
     "text": [
      "episode:  116000 Evaluation Average Reward: -0.5499999999999997\n"
     ]
    },
    {
     "name": "stderr",
     "output_type": "stream",
     "text": [
      " 30%|███       | 120001/400000 [3:40:38<9:01:22,  8.62it/s] "
     ]
    },
    {
     "name": "stdout",
     "output_type": "stream",
     "text": [
      "episode:  120000 Evaluation Average Reward: -0.1300000000000005\n"
     ]
    },
    {
     "name": "stderr",
     "output_type": "stream",
     "text": [
      " 31%|███       | 124001/400000 [3:45:38<6:05:47, 12.58it/s] "
     ]
    },
    {
     "name": "stdout",
     "output_type": "stream",
     "text": [
      "episode:  124000 Evaluation Average Reward: -0.04000000000000048\n"
     ]
    },
    {
     "name": "stderr",
     "output_type": "stream",
     "text": [
      " 32%|███▏      | 128005/400000 [3:50:26<6:37:29, 11.40it/s] "
     ]
    },
    {
     "name": "stdout",
     "output_type": "stream",
     "text": [
      "episode:  128000 Evaluation Average Reward: -1.9299999999999986\n"
     ]
    },
    {
     "name": "stderr",
     "output_type": "stream",
     "text": [
      " 33%|███▎      | 132004/400000 [3:55:13<6:46:47, 10.98it/s] "
     ]
    },
    {
     "name": "stdout",
     "output_type": "stream",
     "text": [
      "episode:  132000 Evaluation Average Reward: -2.810000000000017\n"
     ]
    },
    {
     "name": "stderr",
     "output_type": "stream",
     "text": [
      " 34%|███▍      | 136002/400000 [4:00:00<5:35:03, 13.13it/s] "
     ]
    },
    {
     "name": "stdout",
     "output_type": "stream",
     "text": [
      "episode:  136000 Evaluation Average Reward: -0.10999999999999974\n"
     ]
    },
    {
     "name": "stderr",
     "output_type": "stream",
     "text": [
      " 35%|███▌      | 140000/400000 [4:04:42<5:29:59, 13.13it/s]"
     ]
    },
    {
     "name": "stdout",
     "output_type": "stream",
     "text": [
      "episode:  140000 Evaluation Average Reward: -0.12000000000000051\n"
     ]
    },
    {
     "name": "stderr",
     "output_type": "stream",
     "text": [
      " 36%|███▌      | 144003/400000 [4:09:25<5:12:13, 13.66it/s]"
     ]
    },
    {
     "name": "stdout",
     "output_type": "stream",
     "text": [
      "episode:  144000 Evaluation Average Reward: -0.46999999999999814\n"
     ]
    },
    {
     "name": "stderr",
     "output_type": "stream",
     "text": [
      " 37%|███▋      | 148001/400000 [4:14:10<7:29:24,  9.35it/s] "
     ]
    },
    {
     "name": "stdout",
     "output_type": "stream",
     "text": [
      "episode:  148000 Evaluation Average Reward: -0.1999999999999996\n"
     ]
    },
    {
     "name": "stderr",
     "output_type": "stream",
     "text": [
      " 38%|███▊      | 152003/400000 [4:18:48<4:06:31, 16.77it/s] "
     ]
    },
    {
     "name": "stdout",
     "output_type": "stream",
     "text": [
      "episode:  152000 Evaluation Average Reward: 0.17999999999999994\n"
     ]
    },
    {
     "name": "stderr",
     "output_type": "stream",
     "text": [
      " 39%|███▉      | 156001/400000 [4:23:27<6:13:48, 10.88it/s]"
     ]
    },
    {
     "name": "stdout",
     "output_type": "stream",
     "text": [
      "episode:  156000 Evaluation Average Reward: -1.4799999999999962\n"
     ]
    },
    {
     "name": "stderr",
     "output_type": "stream",
     "text": [
      " 40%|████      | 160003/400000 [4:28:04<4:33:29, 14.63it/s]"
     ]
    },
    {
     "name": "stdout",
     "output_type": "stream",
     "text": [
      "episode:  160000 Evaluation Average Reward: -1.0599999999999954\n"
     ]
    },
    {
     "name": "stderr",
     "output_type": "stream",
     "text": [
      " 41%|████      | 164002/400000 [4:32:36<4:54:17, 13.37it/s]"
     ]
    },
    {
     "name": "stdout",
     "output_type": "stream",
     "text": [
      "episode:  164000 Evaluation Average Reward: 0.44999999999999984\n"
     ]
    },
    {
     "name": "stderr",
     "output_type": "stream",
     "text": [
      " 42%|████▏     | 168004/400000 [4:37:10<6:17:02, 10.26it/s]"
     ]
    },
    {
     "name": "stdout",
     "output_type": "stream",
     "text": [
      "episode:  168000 Evaluation Average Reward: -1.2399999999999953\n"
     ]
    },
    {
     "name": "stderr",
     "output_type": "stream",
     "text": [
      " 43%|████▎     | 172002/400000 [4:41:39<6:03:22, 10.46it/s]"
     ]
    },
    {
     "name": "stdout",
     "output_type": "stream",
     "text": [
      "episode:  172000 Evaluation Average Reward: 0.32999999999999957\n"
     ]
    },
    {
     "name": "stderr",
     "output_type": "stream",
     "text": [
      " 44%|████▍     | 176002/400000 [4:46:12<5:00:58, 12.40it/s]"
     ]
    },
    {
     "name": "stdout",
     "output_type": "stream",
     "text": [
      "episode:  176000 Evaluation Average Reward: -0.23000000000000048\n"
     ]
    },
    {
     "name": "stderr",
     "output_type": "stream",
     "text": [
      " 45%|████▌     | 180004/400000 [4:50:40<4:00:48, 15.23it/s]"
     ]
    },
    {
     "name": "stdout",
     "output_type": "stream",
     "text": [
      "episode:  180000 Evaluation Average Reward: -0.17000000000000068\n"
     ]
    },
    {
     "name": "stderr",
     "output_type": "stream",
     "text": [
      " 46%|████▌     | 184002/400000 [4:55:06<4:49:19, 12.44it/s]"
     ]
    },
    {
     "name": "stdout",
     "output_type": "stream",
     "text": [
      "episode:  184000 Evaluation Average Reward: -0.7899999999999985\n"
     ]
    },
    {
     "name": "stderr",
     "output_type": "stream",
     "text": [
      " 47%|████▋     | 188001/400000 [4:59:31<3:26:22, 17.12it/s]"
     ]
    },
    {
     "name": "stdout",
     "output_type": "stream",
     "text": [
      "episode:  188000 Evaluation Average Reward: -0.21999999999999914\n"
     ]
    },
    {
     "name": "stderr",
     "output_type": "stream",
     "text": [
      " 48%|████▊     | 192003/400000 [5:03:48<4:45:31, 12.14it/s]"
     ]
    },
    {
     "name": "stdout",
     "output_type": "stream",
     "text": [
      "episode:  192000 Evaluation Average Reward: 0.2299999999999997\n"
     ]
    },
    {
     "name": "stderr",
     "output_type": "stream",
     "text": [
      " 49%|████▉     | 196002/400000 [5:08:10<3:14:15, 17.50it/s]"
     ]
    },
    {
     "name": "stdout",
     "output_type": "stream",
     "text": [
      "episode:  196000 Evaluation Average Reward: 0.5000000000000002\n"
     ]
    },
    {
     "name": "stderr",
     "output_type": "stream",
     "text": [
      " 50%|█████     | 200005/400000 [5:12:28<3:24:10, 16.33it/s]"
     ]
    },
    {
     "name": "stdout",
     "output_type": "stream",
     "text": [
      "episode:  200000 Evaluation Average Reward: 0.16999999999999987\n"
     ]
    },
    {
     "name": "stderr",
     "output_type": "stream",
     "text": [
      " 51%|█████     | 204004/400000 [5:16:46<3:08:23, 17.34it/s]"
     ]
    },
    {
     "name": "stdout",
     "output_type": "stream",
     "text": [
      "episode:  204000 Evaluation Average Reward: -0.8799999999999957\n"
     ]
    },
    {
     "name": "stderr",
     "output_type": "stream",
     "text": [
      " 52%|█████▏    | 208002/400000 [5:20:59<3:42:43, 14.37it/s]"
     ]
    },
    {
     "name": "stdout",
     "output_type": "stream",
     "text": [
      "episode:  208000 Evaluation Average Reward: 0.48000000000000026\n"
     ]
    },
    {
     "name": "stderr",
     "output_type": "stream",
     "text": [
      " 53%|█████▎    | 212002/400000 [5:25:18<4:09:29, 12.56it/s]"
     ]
    },
    {
     "name": "stdout",
     "output_type": "stream",
     "text": [
      "episode:  212000 Evaluation Average Reward: -0.19999999999999832\n"
     ]
    },
    {
     "name": "stderr",
     "output_type": "stream",
     "text": [
      " 54%|█████▍    | 216003/400000 [5:29:28<3:05:40, 16.52it/s]"
     ]
    },
    {
     "name": "stdout",
     "output_type": "stream",
     "text": [
      "episode:  216000 Evaluation Average Reward: 0.2999999999999997\n"
     ]
    },
    {
     "name": "stderr",
     "output_type": "stream",
     "text": [
      " 55%|█████▌    | 220003/400000 [5:33:38<3:58:20, 12.59it/s]"
     ]
    },
    {
     "name": "stdout",
     "output_type": "stream",
     "text": [
      "episode:  220000 Evaluation Average Reward: 0.00999999999999982\n"
     ]
    },
    {
     "name": "stderr",
     "output_type": "stream",
     "text": [
      " 56%|█████▌    | 224003/400000 [5:37:44<4:08:45, 11.79it/s]"
     ]
    },
    {
     "name": "stdout",
     "output_type": "stream",
     "text": [
      "episode:  224000 Evaluation Average Reward: 0.20999999999999988\n"
     ]
    },
    {
     "name": "stderr",
     "output_type": "stream",
     "text": [
      " 57%|█████▋    | 228004/400000 [5:41:54<3:05:48, 15.43it/s]"
     ]
    },
    {
     "name": "stdout",
     "output_type": "stream",
     "text": [
      "episode:  228000 Evaluation Average Reward: -0.7299999999999986\n"
     ]
    },
    {
     "name": "stderr",
     "output_type": "stream",
     "text": [
      " 58%|█████▊    | 232002/400000 [5:45:59<2:54:10, 16.08it/s]"
     ]
    },
    {
     "name": "stdout",
     "output_type": "stream",
     "text": [
      "episode:  232000 Evaluation Average Reward: -0.3100000000000002\n"
     ]
    },
    {
     "name": "stderr",
     "output_type": "stream",
     "text": [
      " 59%|█████▉    | 236002/400000 [5:50:00<2:43:47, 16.69it/s]"
     ]
    },
    {
     "name": "stdout",
     "output_type": "stream",
     "text": [
      "episode:  236000 Evaluation Average Reward: -0.1700000000000002\n"
     ]
    },
    {
     "name": "stderr",
     "output_type": "stream",
     "text": [
      " 60%|██████    | 240003/400000 [5:54:07<3:06:53, 14.27it/s]"
     ]
    },
    {
     "name": "stdout",
     "output_type": "stream",
     "text": [
      "episode:  240000 Evaluation Average Reward: -0.28000000000000036\n"
     ]
    },
    {
     "name": "stderr",
     "output_type": "stream",
     "text": [
      " 61%|██████    | 244002/400000 [5:58:06<2:33:06, 16.98it/s]"
     ]
    },
    {
     "name": "stdout",
     "output_type": "stream",
     "text": [
      "episode:  244000 Evaluation Average Reward: -0.7199999999999973\n"
     ]
    },
    {
     "name": "stderr",
     "output_type": "stream",
     "text": [
      " 62%|██████▏   | 248002/400000 [6:02:07<3:39:16, 11.55it/s]"
     ]
    },
    {
     "name": "stdout",
     "output_type": "stream",
     "text": [
      "episode:  248000 Evaluation Average Reward: 0.01000000000000011\n"
     ]
    },
    {
     "name": "stderr",
     "output_type": "stream",
     "text": [
      " 63%|██████▎   | 252003/400000 [6:06:11<3:10:55, 12.92it/s]"
     ]
    },
    {
     "name": "stdout",
     "output_type": "stream",
     "text": [
      "episode:  252000 Evaluation Average Reward: 0.23999999999999969\n"
     ]
    },
    {
     "name": "stderr",
     "output_type": "stream",
     "text": [
      " 64%|██████▍   | 256005/400000 [6:10:12<2:12:58, 18.05it/s]"
     ]
    },
    {
     "name": "stdout",
     "output_type": "stream",
     "text": [
      "episode:  256000 Evaluation Average Reward: 0.3899999999999994\n"
     ]
    },
    {
     "name": "stderr",
     "output_type": "stream",
     "text": [
      " 65%|██████▌   | 260001/400000 [6:14:17<2:30:47, 15.47it/s]"
     ]
    },
    {
     "name": "stdout",
     "output_type": "stream",
     "text": [
      "episode:  260000 Evaluation Average Reward: 0.45999999999999985\n"
     ]
    },
    {
     "name": "stderr",
     "output_type": "stream",
     "text": [
      " 66%|██████▌   | 264001/400000 [6:18:19<2:30:58, 15.01it/s]"
     ]
    },
    {
     "name": "stdout",
     "output_type": "stream",
     "text": [
      "episode:  264000 Evaluation Average Reward: -0.020000000000000285\n"
     ]
    },
    {
     "name": "stderr",
     "output_type": "stream",
     "text": [
      " 67%|██████▋   | 268002/400000 [6:22:22<2:56:43, 12.45it/s]"
     ]
    },
    {
     "name": "stdout",
     "output_type": "stream",
     "text": [
      "episode:  268000 Evaluation Average Reward: 0.2999999999999998\n"
     ]
    },
    {
     "name": "stderr",
     "output_type": "stream",
     "text": [
      " 68%|██████▊   | 272004/400000 [6:26:23<1:54:37, 18.61it/s]"
     ]
    },
    {
     "name": "stdout",
     "output_type": "stream",
     "text": [
      "episode:  272000 Evaluation Average Reward: 0.5700000000000001\n"
     ]
    },
    {
     "name": "stderr",
     "output_type": "stream",
     "text": [
      " 69%|██████▉   | 276004/400000 [6:30:29<2:34:04, 13.41it/s]"
     ]
    },
    {
     "name": "stdout",
     "output_type": "stream",
     "text": [
      "episode:  276000 Evaluation Average Reward: 0.14\n"
     ]
    },
    {
     "name": "stderr",
     "output_type": "stream",
     "text": [
      " 70%|███████   | 280004/400000 [6:34:24<2:04:16, 16.09it/s]"
     ]
    },
    {
     "name": "stdout",
     "output_type": "stream",
     "text": [
      "episode:  280000 Evaluation Average Reward: 0.6800000000000008\n"
     ]
    },
    {
     "name": "stderr",
     "output_type": "stream",
     "text": [
      " 71%|███████   | 284002/400000 [6:38:22<2:05:52, 15.36it/s]"
     ]
    },
    {
     "name": "stdout",
     "output_type": "stream",
     "text": [
      "episode:  284000 Evaluation Average Reward: 0.31999999999999945\n"
     ]
    },
    {
     "name": "stderr",
     "output_type": "stream",
     "text": [
      " 72%|███████▏  | 288003/400000 [6:42:27<1:49:40, 17.02it/s]"
     ]
    },
    {
     "name": "stdout",
     "output_type": "stream",
     "text": [
      "episode:  288000 Evaluation Average Reward: 0.26999999999999963\n"
     ]
    },
    {
     "name": "stderr",
     "output_type": "stream",
     "text": [
      " 73%|███████▎  | 292002/400000 [6:46:20<2:20:51, 12.78it/s]"
     ]
    },
    {
     "name": "stdout",
     "output_type": "stream",
     "text": [
      "episode:  292000 Evaluation Average Reward: 0.14999999999999986\n"
     ]
    },
    {
     "name": "stderr",
     "output_type": "stream",
     "text": [
      " 74%|███████▍  | 296003/400000 [6:50:13<2:05:55, 13.76it/s]"
     ]
    },
    {
     "name": "stdout",
     "output_type": "stream",
     "text": [
      "episode:  296000 Evaluation Average Reward: 0.13999999999999985\n"
     ]
    },
    {
     "name": "stderr",
     "output_type": "stream",
     "text": [
      " 75%|███████▌  | 300005/400000 [6:54:04<1:36:49, 17.21it/s]"
     ]
    },
    {
     "name": "stdout",
     "output_type": "stream",
     "text": [
      "episode:  300000 Evaluation Average Reward: 0.6399999999999999\n"
     ]
    },
    {
     "name": "stderr",
     "output_type": "stream",
     "text": [
      " 76%|███████▌  | 304003/400000 [6:57:55<1:25:23, 18.74it/s]"
     ]
    },
    {
     "name": "stdout",
     "output_type": "stream",
     "text": [
      "episode:  304000 Evaluation Average Reward: 0.17999999999999972\n"
     ]
    },
    {
     "name": "stderr",
     "output_type": "stream",
     "text": [
      " 77%|███████▋  | 308001/400000 [7:01:49<1:17:04, 19.90it/s]"
     ]
    },
    {
     "name": "stdout",
     "output_type": "stream",
     "text": [
      "episode:  308000 Evaluation Average Reward: 0.14999999999999972\n"
     ]
    },
    {
     "name": "stderr",
     "output_type": "stream",
     "text": [
      " 78%|███████▊  | 312000/400000 [7:05:41<52:44, 27.80it/s]  "
     ]
    },
    {
     "name": "stdout",
     "output_type": "stream",
     "text": [
      "episode:  312000 Evaluation Average Reward: 0.13\n"
     ]
    },
    {
     "name": "stderr",
     "output_type": "stream",
     "text": [
      " 79%|███████▉  | 316006/400000 [7:09:33<1:16:45, 18.24it/s]"
     ]
    },
    {
     "name": "stdout",
     "output_type": "stream",
     "text": [
      "episode:  316000 Evaluation Average Reward: 0.15999999999999992\n"
     ]
    },
    {
     "name": "stderr",
     "output_type": "stream",
     "text": [
      " 80%|████████  | 320004/400000 [7:13:24<1:07:27, 19.76it/s]"
     ]
    },
    {
     "name": "stdout",
     "output_type": "stream",
     "text": [
      "episode:  320000 Evaluation Average Reward: -0.2400000000000005\n"
     ]
    },
    {
     "name": "stderr",
     "output_type": "stream",
     "text": [
      " 81%|████████  | 324002/400000 [7:17:11<1:56:08, 10.91it/s]"
     ]
    },
    {
     "name": "stdout",
     "output_type": "stream",
     "text": [
      "episode:  324000 Evaluation Average Reward: -0.10999999999999988\n"
     ]
    },
    {
     "name": "stderr",
     "output_type": "stream",
     "text": [
      " 82%|████████▏ | 328005/400000 [7:21:06<1:22:56, 14.47it/s]"
     ]
    },
    {
     "name": "stdout",
     "output_type": "stream",
     "text": [
      "episode:  328000 Evaluation Average Reward: 0.16\n"
     ]
    },
    {
     "name": "stderr",
     "output_type": "stream",
     "text": [
      " 83%|████████▎ | 332006/400000 [7:24:58<46:29, 24.37it/s]  "
     ]
    },
    {
     "name": "stdout",
     "output_type": "stream",
     "text": [
      "episode:  332000 Evaluation Average Reward: 0.12999999999999995\n"
     ]
    },
    {
     "name": "stderr",
     "output_type": "stream",
     "text": [
      " 84%|████████▍ | 336003/400000 [7:28:45<48:52, 21.82it/s]  "
     ]
    },
    {
     "name": "stdout",
     "output_type": "stream",
     "text": [
      "episode:  336000 Evaluation Average Reward: -0.3899999999999986\n"
     ]
    },
    {
     "name": "stderr",
     "output_type": "stream",
     "text": [
      " 85%|████████▌ | 340005/400000 [7:32:37<51:31, 19.41it/s]  "
     ]
    },
    {
     "name": "stdout",
     "output_type": "stream",
     "text": [
      "episode:  340000 Evaluation Average Reward: 0.08999999999999991\n"
     ]
    },
    {
     "name": "stderr",
     "output_type": "stream",
     "text": [
      " 86%|████████▌ | 344004/400000 [7:36:29<49:11, 18.97it/s]  "
     ]
    },
    {
     "name": "stdout",
     "output_type": "stream",
     "text": [
      "episode:  344000 Evaluation Average Reward: 0.47999999999999987\n"
     ]
    },
    {
     "name": "stderr",
     "output_type": "stream",
     "text": [
      " 87%|████████▋ | 348001/400000 [7:40:16<52:34, 16.48it/s]  "
     ]
    },
    {
     "name": "stdout",
     "output_type": "stream",
     "text": [
      "episode:  348000 Evaluation Average Reward: 0.34999999999999976\n"
     ]
    },
    {
     "name": "stderr",
     "output_type": "stream",
     "text": [
      " 88%|████████▊ | 352008/400000 [7:44:05<1:07:23, 11.87it/s]"
     ]
    },
    {
     "name": "stdout",
     "output_type": "stream",
     "text": [
      "episode:  352000 Evaluation Average Reward: -0.1799999999999986\n"
     ]
    },
    {
     "name": "stderr",
     "output_type": "stream",
     "text": [
      " 89%|████████▉ | 356003/400000 [7:47:49<59:48, 12.26it/s]  "
     ]
    },
    {
     "name": "stdout",
     "output_type": "stream",
     "text": [
      "episode:  356000 Evaluation Average Reward: -6.661338147750939e-17\n"
     ]
    },
    {
     "name": "stderr",
     "output_type": "stream",
     "text": [
      " 90%|█████████ | 360005/400000 [7:51:38<31:06, 21.43it/s]  "
     ]
    },
    {
     "name": "stdout",
     "output_type": "stream",
     "text": [
      "episode:  360000 Evaluation Average Reward: 0.51\n"
     ]
    },
    {
     "name": "stderr",
     "output_type": "stream",
     "text": [
      " 91%|█████████ | 364003/400000 [7:55:22<33:50, 17.73it/s]  "
     ]
    },
    {
     "name": "stdout",
     "output_type": "stream",
     "text": [
      "episode:  364000 Evaluation Average Reward: -0.25999999999999923\n"
     ]
    },
    {
     "name": "stderr",
     "output_type": "stream",
     "text": [
      " 92%|█████████▏| 368004/400000 [7:59:08<35:57, 14.83it/s]  "
     ]
    },
    {
     "name": "stdout",
     "output_type": "stream",
     "text": [
      "episode:  368000 Evaluation Average Reward: 0.15999999999999964\n"
     ]
    },
    {
     "name": "stderr",
     "output_type": "stream",
     "text": [
      " 93%|█████████▎| 372006/400000 [8:02:58<20:23, 22.89it/s]"
     ]
    },
    {
     "name": "stdout",
     "output_type": "stream",
     "text": [
      "episode:  372000 Evaluation Average Reward: -0.07000000000000028\n"
     ]
    },
    {
     "name": "stderr",
     "output_type": "stream",
     "text": [
      " 94%|█████████▍| 376005/400000 [8:06:45<23:16, 17.19it/s]"
     ]
    },
    {
     "name": "stdout",
     "output_type": "stream",
     "text": [
      "episode:  376000 Evaluation Average Reward: -0.09000000000000048\n"
     ]
    },
    {
     "name": "stderr",
     "output_type": "stream",
     "text": [
      " 95%|█████████▌| 380004/400000 [8:10:37<23:25, 14.23it/s]"
     ]
    },
    {
     "name": "stdout",
     "output_type": "stream",
     "text": [
      "episode:  380000 Evaluation Average Reward: 0.10999999999999995\n"
     ]
    },
    {
     "name": "stderr",
     "output_type": "stream",
     "text": [
      " 96%|█████████▌| 384003/400000 [8:14:25<14:57, 17.83it/s]"
     ]
    },
    {
     "name": "stdout",
     "output_type": "stream",
     "text": [
      "episode:  384000 Evaluation Average Reward: -0.22000000000000033\n"
     ]
    },
    {
     "name": "stderr",
     "output_type": "stream",
     "text": [
      " 97%|█████████▋| 388001/400000 [8:18:12<14:19, 13.97it/s]"
     ]
    },
    {
     "name": "stdout",
     "output_type": "stream",
     "text": [
      "episode:  388000 Evaluation Average Reward: 0.030000000000000006\n"
     ]
    },
    {
     "name": "stderr",
     "output_type": "stream",
     "text": [
      " 98%|█████████▊| 392004/400000 [8:22:00<08:39, 15.39it/s]"
     ]
    },
    {
     "name": "stdout",
     "output_type": "stream",
     "text": [
      "episode:  392000 Evaluation Average Reward: 0.47999999999999987\n"
     ]
    },
    {
     "name": "stderr",
     "output_type": "stream",
     "text": [
      " 99%|█████████▉| 396002/400000 [8:25:50<05:26, 12.26it/s]"
     ]
    },
    {
     "name": "stdout",
     "output_type": "stream",
     "text": [
      "episode:  396000 Evaluation Average Reward: 0.4700000000000005\n"
     ]
    },
    {
     "name": "stderr",
     "output_type": "stream",
     "text": [
      "100%|██████████| 400000/400000 [8:29:38<00:00, 13.08it/s]\n"
     ]
    }
   ],
   "source": [
    "EPISODE = 4000*100\n",
    "all_episode += EPISODE\n",
    "for episode in trange(EPISODE):\n",
    "\n",
    "    # Train\n",
    "    state = env.reset()\n",
    "    for step in range(STEP):\n",
    "        action = agent.egreedy_action(state) # e-greedy action for train\n",
    "        next_state,reward,done,_ = env.step(action)\n",
    "        agent.perceive(state,action,reward,next_state,done)\n",
    "        state = next_state\n",
    "        if done:\n",
    "            break\n",
    "\n",
    "    # Test\n",
    "    if (episode % 100) == 0:\n",
    "        total_reward = 0\n",
    "        for i in range(TEST):\n",
    "            state = env.reset()\n",
    "            for j in range(STEP):\n",
    "                action = agent.action(state) # direct action for test\n",
    "                state,reward,done,_ = env.step(action)\n",
    "                total_reward += reward\n",
    "                if done:\n",
    "                    break\n",
    "        ave_reward = total_reward/TEST\n",
    "        \n",
    "        all_reward.append( ave_reward )\n",
    "        if (episode % (EPISODE//100)) == 0:\n",
    "            print ('episode: ',episode,'Evaluation Average Reward:',ave_reward)"
   ]
  },
  {
   "cell_type": "code",
   "execution_count": 6,
   "metadata": {},
   "outputs": [
    {
     "name": "stdout",
     "output_type": "stream",
     "text": [
      "400000 4000\n"
     ]
    }
   ],
   "source": [
    "print (all_episode, len(all_reward))"
   ]
  },
  {
   "cell_type": "code",
   "execution_count": 7,
   "metadata": {},
   "outputs": [],
   "source": [
    "import numpy as np\n",
    "\n",
    "%matplotlib inline\n",
    "import matplotlib.pyplot as plt"
   ]
  },
  {
   "cell_type": "code",
   "execution_count": 8,
   "metadata": {},
   "outputs": [
    {
     "data": {
      "image/png": "[encoded data removed]",
      "text/plain": [
       "<Figure size 432x288 with 1 Axes>"
      ]
     },
     "metadata": {},
     "output_type": "display_data"
    }
   ],
   "source": [
    "fig = plt.figure()\n",
    "ax = fig.add_subplot(111)\n",
    "# ax.plot([1, 2, 3, 4], [10, 20, 25, 30], color='lightblue', linewidth=3) # plot line\n",
    "ax.scatter(range(len(all_reward)), all_reward, color='green', marker='*') # plot points\n",
    "plt.title('Reward Distribution')\n",
    "plt.xlabel('Episodes in terms of 10k')\n",
    "plt.ylabel('Reward score')\n",
    "# ax.set_xlim(0.5, 4.5)\n",
    "plt.show()"
   ]
  },
  {
   "cell_type": "code",
   "execution_count": 9,
   "metadata": {},
   "outputs": [],
   "source": [
    "mean_reward=[]\n",
    "for i in range( len(all_reward) - 100 ):\n",
    "    mean_reward.append( mean(all_reward[i:i+100]) )"
   ]
  },
  {
   "cell_type": "code",
   "execution_count": 10,
   "metadata": {},
   "outputs": [],
   "source": [
    "max_reward=[]\n",
    "for i in range( len(all_reward) - 100 ):\n",
    "    max_reward.append( max(all_reward[i:i+100]) )"
   ]
  },
  {
   "cell_type": "code",
   "execution_count": 11,
   "metadata": {},
   "outputs": [],
   "source": [
    "min_reward=[]\n",
    "for i in range( len(all_reward) - 100 ):\n",
    "    min_reward.append( min(all_reward[i:i+100]) )"
   ]
  },
  {
   "cell_type": "code",
   "execution_count": 13,
   "metadata": {},
   "outputs": [
    {
     "data": {
      "image/png": "[encoded data removed]",
      "text/plain": [
       "<Figure size 432x288 with 1 Axes>"
      ]
     },
     "metadata": {},
     "output_type": "display_data"
    }
   ],
   "source": [
    "fig = plt.figure()\n",
    "ax = fig.add_subplot(111)\n",
    "ax.plot(range(len(mean_reward)), mean_reward, color='black', linewidth=1, label = \"Mean reward\") # plot line\n",
    "ax.plot(range(len(max_reward)), max_reward, color='red', linewidth=1, label = 'Max reward') # plot line\n",
    "ax.plot(range(len(min_reward)), min_reward, color='blue', linewidth=1, label = 'Min reward') # plot line\n",
    "ax.set_ylim(-5, 1)\n",
    "ax.set_xlim(0, 3500)\n",
    "ax.set_xlabel(\"Learning cycles\")\n",
    "ax.set_ylabel(\"Reward\")\n",
    "plt.grid(True)\n",
    "plt.show()"
   ]
  },
  {
   "cell_type": "markdown",
   "metadata": {
    "collapsed": true
   },
   "source": [
    "> Check and test."
   ]
  },
  {
   "cell_type": "code",
   "execution_count": 43,
   "metadata": {},
   "outputs": [
    {
     "name": "stderr",
     "output_type": "stream",
     "text": [
      "100%|██████████| 3000/3000 [00:15<00:00, 197.36it/s]"
     ]
    },
    {
     "name": "stdout",
     "output_type": "stream",
     "text": [
      "reach:  2950 collision:  21 other:  29\n"
     ]
    },
    {
     "name": "stderr",
     "output_type": "stream",
     "text": [
      "\n"
     ]
    }
   ],
   "source": [
    "reach = 0\n",
    "collision = 0\n",
    "test_num = 3000\n",
    "for i in trange( test_num ):\n",
    "\n",
    "    state = env.reset()\n",
    "    for j in range(STEP):\n",
    "        action = agent.action(state) # direct action for test\n",
    "        state,reward,done,info = env.step(action)\n",
    "        total_reward += reward\n",
    "        if done:\n",
    "            # print info\n",
    "\n",
    "            if info == \"reach\":\n",
    "                reach += 1\n",
    "            if info == \"collision\":\n",
    "                collision += 1\n",
    "\n",
    "            break\n",
    "print( \"reach: \", reach, \"collision: \", collision, \"other: \", ( test_num - reach - collision ) )"
   ]
  },
  {
   "cell_type": "markdown",
   "metadata": {},
   "source": [
    "> Fetch out the push-pull states"
   ]
  },
  {
   "cell_type": "code",
   "execution_count": 44,
   "metadata": {
    "scrolled": false
   },
   "outputs": [
    {
     "name": "stdout",
     "output_type": "stream",
     "text": [
      "state_0:  [1.7000000000000002, 1.3, -2.0, 1.8, 1.5, -1.7000000000000002] \n",
      "\n",
      "state_0:  [0.4, -0.2, -0.8, 0.1, 1.7000000000000002, -0.8] \n",
      "\n",
      "state_0:  [-1.3, -0.6000000000000001, -1.6, -1.9000000000000001, -1.3, 1.9000000000000001] \n",
      "\n",
      "state_0:  [-1.3, 0.1, -1.5, 1.8, -0.6000000000000001, -1.0] \n",
      "\n",
      "reach:  193 collision:  3\n"
     ]
    }
   ],
   "source": [
    "reach = 0\n",
    "collision = 0\n",
    "for i in range(200):\n",
    "\n",
    "    state = env.reset()\n",
    "    state_0 = state.copy()\n",
    "    is_push_pull = 1\n",
    "    for j in range(STEP):\n",
    "        action = agent.action(state) # direct action for test\n",
    "        state,reward,done,info = env.step(action)\n",
    "        total_reward += reward\n",
    "        if done:\n",
    "            # print info\n",
    "\n",
    "            if info == \"reach\":\n",
    "                reach += 1\n",
    "                is_push_pull = 0\n",
    "            elif info == \"collision\":\n",
    "                collision += 1\n",
    "                is_push_pull = 0\n",
    "\n",
    "            break\n",
    "    if is_push_pull:\n",
    "        print( \"state_0: \", state_0.tolist(), \"\\n\" )\n",
    "    \n",
    "print( \"reach: \", reach, \"collision: \", collision )"
   ]
  },
  {
   "cell_type": "markdown",
   "metadata": {},
   "source": [
    "> Save model."
   ]
  },
  {
   "cell_type": "code",
   "execution_count": 36,
   "metadata": {},
   "outputs": [],
   "source": [
    "W1, b1, W2, b2, W3, b3 = agent.obtain_wb()"
   ]
  },
  {
   "cell_type": "code",
   "execution_count": 37,
   "metadata": {},
   "outputs": [],
   "source": [
    "np.save('W1', W1)\n",
    "np.save('W2', W2)\n",
    "np.save('W3', W3)\n",
    "\n",
    "np.save('b1', b1)\n",
    "np.save('b2', b2)\n",
    "np.save('b3', b3)"
   ]
  },
  {
   "cell_type": "markdown",
   "metadata": {},
   "source": [
    "> Plot trajectory."
   ]
  },
  {
   "cell_type": "code",
   "execution_count": 38,
   "metadata": {},
   "outputs": [],
   "source": [
    "state_0 = np.array( [0.1, 1.5, -2.0, 1.8, 1.2000000000000002, -1.7000000000000002] )"
   ]
  },
  {
   "cell_type": "code",
   "execution_count": 39,
   "metadata": {},
   "outputs": [
    {
     "name": "stdout",
     "output_type": "stream",
     "text": [
      "reach:  1 collision:  0\n"
     ]
    }
   ],
   "source": [
    "reach = 0\n",
    "collision = 0\n",
    "for i in range( 1 ):\n",
    "\n",
    "    state = env.reset( state_0 )\n",
    "    state_0 = state.copy()\n",
    "    is_push_pull = 1\n",
    "    act_save = []\n",
    "    trajectory = [ state[ [4,5] ].copy() ]\n",
    "    for j in range(STEP):\n",
    "        action = agent.action(state) # direct action for test\n",
    "        act_save.append( action )\n",
    "        state,reward,done,info = env.step(action)\n",
    "        trajectory.append( state[ [4,5] ].copy() )\n",
    "        total_reward += reward\n",
    "        if done:\n",
    "\n",
    "            if info == \"reach\":\n",
    "                reach += 1\n",
    "                is_push_pull = 0\n",
    "            else:\n",
    "                if info == \"collision\":\n",
    "                    collision += 1\n",
    "                    is_push_pull = 0\n",
    "                else:\n",
    "                    print( \"state_0: \", state_0 )\n",
    "\n",
    "            break\n",
    "    if is_push_pull:\n",
    "        print( \"state_0: \", state_0 )\n",
    "        print( \"act_save: \", act_save )\n",
    "    \n",
    "print (\"reach: \", reach, \"collision: \", collision)"
   ]
  },
  {
   "cell_type": "code",
   "execution_count": 40,
   "metadata": {},
   "outputs": [],
   "source": [
    "x_o = state_0[0]\n",
    "y_o = state_0[1]\n",
    "x_t = state_0[2]\n",
    "y_t = state_0[3]\n",
    "x_m = state_0[4]\n",
    "y_m = state_0[5]"
   ]
  },
  {
   "cell_type": "code",
   "execution_count": 41,
   "metadata": {},
   "outputs": [],
   "source": [
    "import numpy as np\n",
    "\n",
    "%matplotlib inline\n",
    "import matplotlib.pyplot as plt\n",
    "import matplotlib.patches as patches"
   ]
  },
  {
   "cell_type": "code",
   "execution_count": 42,
   "metadata": {},
   "outputs": [
    {
     "data": {
      "image/png": "[encoded data removed]",
      "text/plain": [
       "<Figure size 432x432 with 1 Axes>"
      ]
     },
     "metadata": {},
     "output_type": "display_data"
    }
   ],
   "source": [
    "if True:\n",
    "    fig = plt.figure( figsize=(6,6) )\n",
    "    ax = fig.add_subplot(111)\n",
    "\n",
    "    ax.add_patch(\n",
    "        patches.Rectangle(\n",
    "            (-3, -3),\n",
    "            6,\n",
    "            6,\n",
    "            color=\"grey\"\n",
    "        )\n",
    "    )\n",
    "    ax.add_patch(\n",
    "        patches.Rectangle(\n",
    "            (-2, -2),\n",
    "            4,\n",
    "            4,\n",
    "            color=\"black\"\n",
    "        )\n",
    "    )\n",
    "    \n",
    "    ax.add_patch(\n",
    "        patches.Rectangle(\n",
    "            (x_o-0.5, y_o-0.5),\n",
    "            1,\n",
    "            1,\n",
    "            color=\"red\",\n",
    "            hatch=\"x\"\n",
    "        )\n",
    "    )\n",
    "    \n",
    "    ax.add_patch(\n",
    "        patches.Rectangle(\n",
    "            (x_t-0.5, y_t-0.5),\n",
    "            1,\n",
    "            1,\n",
    "            color=\"green\",\n",
    "            hatch=\"+\"\n",
    "        )\n",
    "    )\n",
    "    ax.add_patch(\n",
    "        patches.Rectangle(\n",
    "            (x_m-0.5, y_m-0.5),\n",
    "            1,\n",
    "            1,\n",
    "            color=\"blue\",\n",
    "            hatch=\".\"\n",
    "        )\n",
    "    )\n",
    "    ax.set_xlim(-4, 4)\n",
    "    ax.set_ylim(-4, 4)\n",
    "    \n",
    "    # plt.grid(True)\n",
    "    \n",
    "    for i in range( len(trajectory)-1 ):\n",
    "        j = i+1\n",
    "        # plot lines\n",
    "        ax.plot( [trajectory[i][0], trajectory[j][0]], [trajectory[i][1], trajectory[j][1]] , color=\"white\", linewidth=2)\n",
    "    \n",
    "    plt.show()"
   ]
  },
  {
   "cell_type": "code",
   "execution_count": null,
   "metadata": {},
   "outputs": [],
   "source": []
  }
 ],
 "metadata": {
  "kernelspec": {
   "display_name": "Python 2",
   "language": "python",
   "name": "python2"
  },
  "language_info": {
   "codemirror_mode": {
    "name": "ipython",
    "version": 3
   },
   "file_extension": ".py",
   "mimetype": "text/x-python",
   "name": "python",
   "nbconvert_exporter": "python",
   "pygments_lexer": "ipython3",
   "version": "3.5.2"
  }
 },
 "nbformat": 4,
 "nbformat_minor": 2
}
