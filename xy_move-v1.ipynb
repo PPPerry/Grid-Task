{
 "cells": [
  {
   "cell_type": "code",
   "execution_count": 13,
   "metadata": {},
   "outputs": [],
   "source": [
    "from __future__ import print_function"
   ]
  },
  {
   "cell_type": "code",
   "execution_count": 14,
   "metadata": {},
   "outputs": [],
   "source": [
    "import numpy as np\n",
    "from scipy.linalg import expm\n",
    "import random\n",
    "\n",
    "class move_gym():\n",
    "    def __init__(self):\n",
    "        self.scope = 2.0\n",
    "        self.states = 6\n",
    "        self.actions = 4\n",
    "    def reset( self, s = [] ):\n",
    "        if np.array( s ).shape[0] == 0:\n",
    "\n",
    "            self.obstacle_x = np.random.randint( int(-self.scope*10), int(self.scope*10) )*0.1\n",
    "            self.obstacle_y = np.random.randint( int(-self.scope*10), int(self.scope*10) )*0.1\n",
    "\n",
    "            self.move_x = np.random.randint( int(-self.scope*10), int(self.scope*10) )*0.1\n",
    "            self.move_y = np.random.randint( int(-self.scope*10), int(self.scope*10) )*0.1  \n",
    "            while ( abs(self.obstacle_x-self.move_x) < 1.05 ) & ( abs(self.obstacle_y-self.move_y) < 1.05 ):\n",
    "                self.move_x = np.random.randint( int(-self.scope*10), int(self.scope*10) )*0.1\n",
    "                self.move_y = np.random.randint( int(-self.scope*10), int(self.scope*10) )*0.1      \n",
    "\n",
    "            self.target_x = np.random.randint( int(-self.scope*10), int(self.scope*10) )*0.1\n",
    "            self.target_y = np.random.randint( int(-self.scope*10), int(self.scope*10) )*0.1\n",
    "            while (  ( abs(self.obstacle_x-self.target_x) < 1.05 ) & ( abs(self.obstacle_y-self.target_y) < 1.05 )  ) |\\\n",
    "             (  ( abs(self.move_x-self.target_x) < 1.05 ) & ( abs(self.move_y-self.target_y) < 1.05 )  ):\n",
    "                self.target_x = np.random.randint( int(-self.scope*10), int(self.scope*10) )*0.1\n",
    "                self.target_y = np.random.randint( int(-self.scope*10), int(self.scope*10) )*0.1        \n",
    "\n",
    "        else:\n",
    "            self.obstacle_x=s[0]\n",
    "            self.obstacle_y=s[1]\n",
    "            self.target_x=s[2]\n",
    "            self.target_y=s[3]\n",
    "            self.move_x=s[4]\n",
    "            self.move_y=s[5]\n",
    "\n",
    "        state=np.array([ self.obstacle_x, self.obstacle_y, self.target_x, self.target_y, self.move_x, self.move_y ])\n",
    "        return state\n",
    "    def step(self, action):\n",
    "        velocity = 0.2\n",
    "        if action==0: # up down right left\n",
    "            self.move_y+=velocity\n",
    "        if action==1:\n",
    "            self.move_y-=velocity\n",
    "        if action==2:\n",
    "            self.move_x+=velocity\n",
    "        if action==3:\n",
    "            self.move_x-=velocity\n",
    "\n",
    "        if self.move_x > (self.scope+1.0):\n",
    "            self.move_x-=velocity\n",
    "        if self.move_x < (-self.scope-1.0):\n",
    "            self.move_x+=velocity\n",
    "        if self.move_y > (self.scope+1.0):\n",
    "            self.move_y-=velocity\n",
    "        if self.move_y < (-self.scope-1.0):\n",
    "            self.move_y+=velocity\n",
    "        \n",
    "        reward = -0.1\n",
    "        done = False\n",
    "        info = \"^_^\"\n",
    "        if (  ( abs(self.obstacle_x-self.move_x) < 1.05 ) & ( abs(self.obstacle_y-self.move_y) < 1.05 )  ): \n",
    "            reward = -1.0 \n",
    "            done = True\n",
    "            info = \"collision\"\n",
    "\n",
    "        elif (  ( abs(self.target_x-self.move_x) < 1.05 ) & ( abs(self.target_y-self.move_y) < 1.05 )  ):\n",
    "            reward = 1.0\n",
    "            done = True\n",
    "            info = \"reach\"\n",
    "\n",
    "        state=np.array([ self.obstacle_x, self.obstacle_y, self.target_x, self.target_y, self.move_x, self.move_y ])\n",
    "\n",
    "        return state, reward,done,info\n"
   ]
  },
  {
   "cell_type": "code",
   "execution_count": 15,
   "metadata": {},
   "outputs": [
    {
     "name": "stdout",
     "output_type": "stream",
     "text": [
      "WARNING:tensorflow:From /Users/perry/miniforge3/envs/tf/lib/python3.8/site-packages/tensorflow/python/compat/v2_compat.py:107: disable_resource_variables (from tensorflow.python.ops.variable_scope) is deprecated and will be removed in a future version.\n",
      "Instructions for updating:\n",
      "non-resource variables are not supported in the long term\n",
      "create new network weights ...\n"
     ]
    },
    {
     "name": "stderr",
     "output_type": "stream",
     "text": [
      "2022-03-04 12:18:52.879128: I tensorflow/core/common_runtime/pluggable_device/pluggable_device_factory.cc:305] Could not identify NUMA node of platform GPU ID 0, defaulting to 0. Your kernel may not have been built with NUMA support.\n",
      "2022-03-04 12:18:52.879168: I tensorflow/core/common_runtime/pluggable_device/pluggable_device_factory.cc:271] Created TensorFlow device (/job:localhost/replica:0/task:0/device:GPU:0 with 0 MB memory) -> physical PluggableDevice (device: 0, name: METAL, pci bus id: <undefined>)\n"
     ]
    }
   ],
   "source": [
    "import tensorflow.compat.v1 as tf\n",
    "tf.disable_v2_behavior()\n",
    "import numpy as np\n",
    "from numpy import *\n",
    "import random\n",
    "from collections import deque\n",
    "\n",
    "from tqdm import trange\n",
    "\n",
    "# Hyper Parameters for DQN\n",
    "GAMMA = 0.9 # discount factor for target Q or decay rate\n",
    "INITIAL_EPSILON = 0.5 # starting value of epsilon\n",
    "FINAL_EPSILON = 0.01 # final value of epsilon\n",
    "REPLAY_SIZE = 10000 # experience replay buffer size\n",
    "BATCH_SIZE = 32 # size of minibatch\n",
    "\n",
    "class DQN():\n",
    "    # DQN Agent\n",
    "    def __init__(self, env):\n",
    "        # init experience replay\n",
    "        self.replay_buffer = deque()\n",
    "        # init. some parameters\n",
    "        self.epsilon = INITIAL_EPSILON\n",
    "        # self.state_dim = env.observation_space.shape[0]\n",
    "        self.state_dim = env.states\n",
    "\n",
    "        # self.action_dim = env.action_space.n\n",
    "        self.action_dim = env.actions\n",
    "\n",
    "        self.create_Q_network()\n",
    "        self.create_training_method()\n",
    "\n",
    "        # Init session\n",
    "        self.session = tf.InteractiveSession()\n",
    "        self.session.run(tf.global_variables_initializer())\n",
    "\n",
    "    def create_Q_network(self):\n",
    "        # # a: create new network weights\n",
    "        print (\"create new network weights ...\")\n",
    "        num_hid = 200\n",
    "        self.W1 = self.weight_variable([self.state_dim,num_hid])\n",
    "        self.b1 = self.bias_variable([num_hid])\n",
    "        self.W2 = self.weight_variable([num_hid,num_hid])\n",
    "        self.b2 = self.bias_variable([num_hid])\n",
    "        self.W3 = self.weight_variable([num_hid,self.action_dim])\n",
    "        self.b3= self.bias_variable([self.action_dim])\n",
    "\n",
    "        # # # b: restore old network weights\n",
    "        # print \"restore old network weights ...\"\n",
    "        # self.W1, self.b1, self.W2, self.b2, self.W3, self.b3 = self.restore_wb()\n",
    "\n",
    "\n",
    "        # input layer\n",
    "        self.state_input = tf.placeholder(\"float\",[None,self.state_dim])\n",
    "        # hidden layers\n",
    "        h_layer = tf.nn.relu(tf.matmul(self.state_input,self.W1) + self.b1)\n",
    "        h_layer02 = tf.nn.relu(tf.matmul(h_layer,self.W2) + self.b2)\n",
    "        # Q Value layer\n",
    "        self.Q_value = tf.matmul(h_layer02,self.W3) + self.b3\n",
    "\n",
    "    def create_training_method(self):\n",
    "        self.action_input = tf.placeholder(\"float\",[None,self.action_dim]) # one hot presentation\n",
    "        self.y_input = tf.placeholder(\"float\",[None])\n",
    "        Q_action = tf.reduce_sum(tf.multiply(self.Q_value,self.action_input),reduction_indices = 1)\n",
    "        self.cost = tf.reduce_mean(tf.square(self.y_input - Q_action))\n",
    "        self.optimizer = tf.train.AdamOptimizer(0.0001).minimize(self.cost)\n",
    "\n",
    "    def perceive(self,state,action,reward,next_state,done):\n",
    "        one_hot_action = np.zeros(self.action_dim)\n",
    "        one_hot_action[action] = 1\n",
    "        self.replay_buffer.append((state,one_hot_action,reward,next_state,done))\n",
    "        if len(self.replay_buffer) > REPLAY_SIZE:\n",
    "            self.replay_buffer.popleft()\n",
    "\n",
    "        if len(self.replay_buffer) > BATCH_SIZE:\n",
    "            self.train_Q_network()\n",
    "\n",
    "    def train_Q_network(self):\n",
    "        # Step 1: obtain random minibatch from replay memory\n",
    "        minibatch = random.sample(self.replay_buffer,BATCH_SIZE)\n",
    "        state_batch = [data[0] for data in minibatch]\n",
    "        action_batch = [data[1] for data in minibatch]\n",
    "        reward_batch = [data[2] for data in minibatch]\n",
    "        next_state_batch = [data[3] for data in minibatch]\n",
    "\n",
    "        # Step 2: calculate y\n",
    "        y_batch = []\n",
    "        Q_value_batch = self.Q_value.eval(feed_dict={self.state_input:next_state_batch})\n",
    "        for i in range(0,BATCH_SIZE):\n",
    "            done = minibatch[i][4]\n",
    "            if done:\n",
    "                y_batch.append(reward_batch[i])\n",
    "            else :\n",
    "                y_batch.append(reward_batch[i] + GAMMA * np.max(Q_value_batch[i]))\n",
    "\n",
    "        self.optimizer.run(feed_dict={\n",
    "          self.y_input:y_batch,\n",
    "          self.action_input:action_batch,\n",
    "          self.state_input:state_batch\n",
    "          })\n",
    "\n",
    "    def egreedy_action(self,state):\n",
    "        Q_value = self.Q_value.eval(feed_dict = {\n",
    "          self.state_input:[state]\n",
    "          })[0]\n",
    "        if random.random() < 0.5:\n",
    "            return random.randint(0,self.action_dim - 1)\n",
    "        else:\n",
    "            return np.argmax(Q_value)\n",
    "\n",
    "    def obtain_wb(self):\n",
    "        W1=self.session.run(self.W1)\n",
    "        b1=self.session.run(self.b1)\n",
    "        W2=self.session.run(self.W2)\n",
    "        b2=self.session.run(self.b2)\n",
    "        W3=self.session.run(self.W3)\n",
    "        b3=self.session.run(self.b3)\n",
    "        return W1, b1, W2, b2, W3, b3\n",
    "\n",
    "    def restore_wb(self):\n",
    "        W1 = np.load( \"W1.npy\" )\n",
    "        W2 = np.load( \"W2.npy\" )\n",
    "        W3 = np.load( \"W3.npy\" )\n",
    "\n",
    "        b1 = np.load( \"b1.npy\" )\n",
    "        b2 = np.load( \"b2.npy\" )\n",
    "        b3 = np.load( \"b3.npy\" )        \n",
    "        return tf.Variable(W1), tf.Variable(b1), tf.Variable(W2), tf.Variable(b2), tf.Variable(W3), tf.Variable(b3)\n",
    "    def use_nn(self,state):\n",
    "        return self.Q_value.eval(feed_dict = {\n",
    "          self.state_input:[state]\n",
    "          })\n",
    "\n",
    "    def action(self,state):\n",
    "        return np.argmax(self.Q_value.eval(feed_dict = {\n",
    "          self.state_input:[state]\n",
    "          })[0])\n",
    "\n",
    "    def weight_variable(self,shape):\n",
    "        initial = tf.truncated_normal(shape)\n",
    "        return tf.Variable(initial)\n",
    "\n",
    "    def bias_variable(self,shape):\n",
    "        initial = tf.constant(0.01, shape = shape)\n",
    "        return tf.Variable(initial)\n",
    "    \n",
    "    \n",
    "# Hyper Parameters\n",
    "STEP = 50 # Step limitation in an episode\n",
    "TEST = 10 # The number of experiment for test\n",
    "\n",
    "# initialize env and agent\n",
    "env = move_gym()\n",
    "agent = DQN(env)\n",
    "\n",
    "all_episode = 0\n",
    "all_reward = []"
   ]
  },
  {
   "cell_type": "code",
   "execution_count": 16,
   "metadata": {},
   "outputs": [
    {
     "name": "stderr",
     "output_type": "stream",
     "text": [
      "  0%|          | 1/400000 [00:01<174:10:49,  1.57s/it]"
     ]
    },
    {
     "name": "stdout",
     "output_type": "stream",
     "text": [
      "episode:  0 Evaluation Average Reward: -4.100000000000032\n"
     ]
    },
    {
     "name": "stderr",
     "output_type": "stream",
     "text": [
      "  1%|          | 4001/400000 [16:49<27:29:25,  4.00it/s]"
     ]
    },
    {
     "name": "stdout",
     "output_type": "stream",
     "text": [
      "episode:  4000 Evaluation Average Reward: -3.4400000000000235\n"
     ]
    },
    {
     "name": "stderr",
     "output_type": "stream",
     "text": [
      "  2%|▏         | 8002/400000 [41:13<30:43:29,  3.54it/s]  "
     ]
    },
    {
     "name": "stdout",
     "output_type": "stream",
     "text": [
      "episode:  8000 Evaluation Average Reward: -4.050000000000031\n"
     ]
    },
    {
     "name": "stderr",
     "output_type": "stream",
     "text": [
      "  3%|▎         | 12001/400000 [58:18<37:20:49,  2.89it/s]"
     ]
    },
    {
     "name": "stdout",
     "output_type": "stream",
     "text": [
      "episode:  12000 Evaluation Average Reward: -4.3100000000000325\n"
     ]
    },
    {
     "name": "stderr",
     "output_type": "stream",
     "text": [
      "  4%|▍         | 16001/400000 [1:15:30<50:41:33,  2.10it/s]"
     ]
    },
    {
     "name": "stdout",
     "output_type": "stream",
     "text": [
      "episode:  16000 Evaluation Average Reward: -4.620000000000037\n"
     ]
    },
    {
     "name": "stderr",
     "output_type": "stream",
     "text": [
      "  5%|▌         | 20001/400000 [1:32:37<46:24:19,  2.27it/s]"
     ]
    },
    {
     "name": "stdout",
     "output_type": "stream",
     "text": [
      "episode:  20000 Evaluation Average Reward: -3.900000000000029\n"
     ]
    },
    {
     "name": "stderr",
     "output_type": "stream",
     "text": [
      "  6%|▌         | 24001/400000 [1:49:58<47:19:29,  2.21it/s]"
     ]
    },
    {
     "name": "stdout",
     "output_type": "stream",
     "text": [
      "episode:  24000 Evaluation Average Reward: -4.610000000000037\n"
     ]
    },
    {
     "name": "stderr",
     "output_type": "stream",
     "text": [
      "  7%|▋         | 28001/400000 [2:07:04<41:38:14,  2.48it/s]"
     ]
    },
    {
     "name": "stdout",
     "output_type": "stream",
     "text": [
      "episode:  28000 Evaluation Average Reward: -4.040000000000032\n"
     ]
    },
    {
     "name": "stderr",
     "output_type": "stream",
     "text": [
      "  8%|▊         | 32001/400000 [2:23:53<30:24:20,  3.36it/s]"
     ]
    },
    {
     "name": "stdout",
     "output_type": "stream",
     "text": [
      "episode:  32000 Evaluation Average Reward: -4.300000000000033\n"
     ]
    },
    {
     "name": "stderr",
     "output_type": "stream",
     "text": [
      "  9%|▉         | 36001/400000 [2:40:35<33:23:35,  3.03it/s]"
     ]
    },
    {
     "name": "stdout",
     "output_type": "stream",
     "text": [
      "episode:  36000 Evaluation Average Reward: -3.9200000000000315\n"
     ]
    },
    {
     "name": "stderr",
     "output_type": "stream",
     "text": [
      " 10%|█         | 40001/400000 [2:55:19<25:33:32,  3.91it/s]"
     ]
    },
    {
     "name": "stdout",
     "output_type": "stream",
     "text": [
      "episode:  40000 Evaluation Average Reward: -3.9000000000000314\n"
     ]
    },
    {
     "name": "stderr",
     "output_type": "stream",
     "text": [
      " 11%|█         | 44001/400000 [3:08:02<15:22:00,  6.44it/s]"
     ]
    },
    {
     "name": "stdout",
     "output_type": "stream",
     "text": [
      "episode:  44000 Evaluation Average Reward: -0.639999999999999\n"
     ]
    },
    {
     "name": "stderr",
     "output_type": "stream",
     "text": [
      " 12%|█▏        | 48001/400000 [3:18:55<10:29:37,  9.32it/s]"
     ]
    },
    {
     "name": "stdout",
     "output_type": "stream",
     "text": [
      "episode:  48000 Evaluation Average Reward: -1.6599999999999955\n"
     ]
    },
    {
     "name": "stderr",
     "output_type": "stream",
     "text": [
      " 13%|█▎        | 52002/400000 [3:29:11<18:47:49,  5.14it/s]"
     ]
    },
    {
     "name": "stdout",
     "output_type": "stream",
     "text": [
      "episode:  52000 Evaluation Average Reward: -2.020000000000006\n"
     ]
    },
    {
     "name": "stderr",
     "output_type": "stream",
     "text": [
      " 14%|█▍        | 56002/400000 [3:39:13<16:21:32,  5.84it/s]"
     ]
    },
    {
     "name": "stdout",
     "output_type": "stream",
     "text": [
      "episode:  56000 Evaluation Average Reward: -2.770000000000014\n"
     ]
    },
    {
     "name": "stderr",
     "output_type": "stream",
     "text": [
      " 15%|█▌        | 60003/400000 [3:48:44<12:59:47,  7.27it/s]"
     ]
    },
    {
     "name": "stdout",
     "output_type": "stream",
     "text": [
      "episode:  60000 Evaluation Average Reward: -2.720000000000012\n"
     ]
    },
    {
     "name": "stderr",
     "output_type": "stream",
     "text": [
      " 16%|█▌        | 64004/400000 [3:58:05<9:11:21, 10.16it/s] "
     ]
    },
    {
     "name": "stdout",
     "output_type": "stream",
     "text": [
      "episode:  64000 Evaluation Average Reward: -0.1400000000000004\n"
     ]
    },
    {
     "name": "stderr",
     "output_type": "stream",
     "text": [
      " 17%|█▋        | 68003/400000 [4:07:24<15:26:33,  5.97it/s]"
     ]
    },
    {
     "name": "stdout",
     "output_type": "stream",
     "text": [
      "episode:  68000 Evaluation Average Reward: -2.2100000000000084\n"
     ]
    },
    {
     "name": "stderr",
     "output_type": "stream",
     "text": [
      " 18%|█▊        | 72000/400000 [4:16:45<9:43:15,  9.37it/s] "
     ]
    },
    {
     "name": "stdout",
     "output_type": "stream",
     "text": [
      "episode:  72000 Evaluation Average Reward: -0.16999999999999935\n"
     ]
    },
    {
     "name": "stderr",
     "output_type": "stream",
     "text": [
      " 19%|█▉        | 76002/400000 [4:25:57<13:25:28,  6.70it/s]"
     ]
    },
    {
     "name": "stdout",
     "output_type": "stream",
     "text": [
      "episode:  76000 Evaluation Average Reward: -1.8000000000000012\n"
     ]
    },
    {
     "name": "stderr",
     "output_type": "stream",
     "text": [
      " 20%|██        | 80002/400000 [4:34:54<14:58:23,  5.94it/s]"
     ]
    },
    {
     "name": "stdout",
     "output_type": "stream",
     "text": [
      "episode:  80000 Evaluation Average Reward: -1.3999999999999977\n"
     ]
    },
    {
     "name": "stderr",
     "output_type": "stream",
     "text": [
      " 21%|██        | 84002/400000 [4:43:47<12:15:35,  7.16it/s]"
     ]
    },
    {
     "name": "stdout",
     "output_type": "stream",
     "text": [
      "episode:  84000 Evaluation Average Reward: 0.4299999999999996\n"
     ]
    },
    {
     "name": "stderr",
     "output_type": "stream",
     "text": [
      " 22%|██▏       | 88001/400000 [4:52:58<15:33:55,  5.57it/s]"
     ]
    },
    {
     "name": "stdout",
     "output_type": "stream",
     "text": [
      "episode:  88000 Evaluation Average Reward: -0.5299999999999996\n"
     ]
    },
    {
     "name": "stderr",
     "output_type": "stream",
     "text": [
      " 23%|██▎       | 92002/400000 [5:01:47<11:14:24,  7.61it/s]"
     ]
    },
    {
     "name": "stdout",
     "output_type": "stream",
     "text": [
      "episode:  92000 Evaluation Average Reward: -0.5600000000000002\n"
     ]
    },
    {
     "name": "stderr",
     "output_type": "stream",
     "text": [
      " 24%|██▍       | 96004/400000 [5:10:35<12:16:19,  6.88it/s]"
     ]
    },
    {
     "name": "stdout",
     "output_type": "stream",
     "text": [
      "episode:  96000 Evaluation Average Reward: -1.7299999999999998\n"
     ]
    },
    {
     "name": "stderr",
     "output_type": "stream",
     "text": [
      " 25%|██▌       | 100001/400000 [5:19:14<10:50:41,  7.68it/s]"
     ]
    },
    {
     "name": "stdout",
     "output_type": "stream",
     "text": [
      "episode:  100000 Evaluation Average Reward: -1.2199999999999975\n"
     ]
    },
    {
     "name": "stderr",
     "output_type": "stream",
     "text": [
      " 26%|██▌       | 104002/400000 [5:27:54<14:20:22,  5.73it/s]"
     ]
    },
    {
     "name": "stdout",
     "output_type": "stream",
     "text": [
      "episode:  104000 Evaluation Average Reward: 0.34999999999999976\n"
     ]
    },
    {
     "name": "stderr",
     "output_type": "stream",
     "text": [
      " 27%|██▋       | 108001/400000 [5:36:30<10:07:05,  8.02it/s]"
     ]
    },
    {
     "name": "stdout",
     "output_type": "stream",
     "text": [
      "episode:  108000 Evaluation Average Reward: -0.1500000000000004\n"
     ]
    },
    {
     "name": "stderr",
     "output_type": "stream",
     "text": [
      " 28%|██▊       | 112005/400000 [5:45:04<6:26:25, 12.42it/s] "
     ]
    },
    {
     "name": "stdout",
     "output_type": "stream",
     "text": [
      "episode:  112000 Evaluation Average Reward: -1.820000000000002\n"
     ]
    },
    {
     "name": "stderr",
     "output_type": "stream",
     "text": [
      " 29%|██▉       | 116003/400000 [5:53:28<8:41:36,  9.07it/s] "
     ]
    },
    {
     "name": "stdout",
     "output_type": "stream",
     "text": [
      "episode:  116000 Evaluation Average Reward: -0.11000000000000054\n"
     ]
    },
    {
     "name": "stderr",
     "output_type": "stream",
     "text": [
      " 30%|███       | 120002/400000 [6:02:01<11:10:15,  6.96it/s]"
     ]
    },
    {
     "name": "stdout",
     "output_type": "stream",
     "text": [
      "episode:  120000 Evaluation Average Reward: 0.20999999999999996\n"
     ]
    },
    {
     "name": "stderr",
     "output_type": "stream",
     "text": [
      " 31%|███       | 124002/400000 [6:10:43<8:12:41,  9.34it/s] "
     ]
    },
    {
     "name": "stdout",
     "output_type": "stream",
     "text": [
      "episode:  124000 Evaluation Average Reward: 0.12999999999999975\n"
     ]
    },
    {
     "name": "stderr",
     "output_type": "stream",
     "text": [
      " 32%|███▏      | 128003/400000 [6:19:09<6:09:09, 12.28it/s] "
     ]
    },
    {
     "name": "stdout",
     "output_type": "stream",
     "text": [
      "episode:  128000 Evaluation Average Reward: 0.1999999999999995\n"
     ]
    },
    {
     "name": "stderr",
     "output_type": "stream",
     "text": [
      " 33%|███▎      | 132001/400000 [6:27:32<7:42:23,  9.66it/s] "
     ]
    },
    {
     "name": "stdout",
     "output_type": "stream",
     "text": [
      "episode:  132000 Evaluation Average Reward: 0.24999999999999992\n"
     ]
    },
    {
     "name": "stderr",
     "output_type": "stream",
     "text": [
      " 34%|███▍      | 136001/400000 [6:35:53<17:07:59,  4.28it/s]"
     ]
    },
    {
     "name": "stdout",
     "output_type": "stream",
     "text": [
      "episode:  136000 Evaluation Average Reward: -0.5899999999999995\n"
     ]
    },
    {
     "name": "stderr",
     "output_type": "stream",
     "text": [
      " 35%|███▌      | 140003/400000 [6:44:06<8:06:36,  8.91it/s] "
     ]
    },
    {
     "name": "stdout",
     "output_type": "stream",
     "text": [
      "episode:  140000 Evaluation Average Reward: -0.08000000000000043\n"
     ]
    },
    {
     "name": "stderr",
     "output_type": "stream",
     "text": [
      " 36%|███▌      | 144003/400000 [6:52:12<8:24:32,  8.46it/s] "
     ]
    },
    {
     "name": "stdout",
     "output_type": "stream",
     "text": [
      "episode:  144000 Evaluation Average Reward: -0.3600000000000003\n"
     ]
    },
    {
     "name": "stderr",
     "output_type": "stream",
     "text": [
      " 37%|███▋      | 148002/400000 [7:00:04<7:06:14,  9.85it/s] "
     ]
    },
    {
     "name": "stdout",
     "output_type": "stream",
     "text": [
      "episode:  148000 Evaluation Average Reward: 0.5600000000000012\n"
     ]
    },
    {
     "name": "stderr",
     "output_type": "stream",
     "text": [
      " 38%|███▊      | 152002/400000 [7:08:07<8:10:55,  8.42it/s] "
     ]
    },
    {
     "name": "stdout",
     "output_type": "stream",
     "text": [
      "episode:  152000 Evaluation Average Reward: 0.11999999999999975\n"
     ]
    },
    {
     "name": "stderr",
     "output_type": "stream",
     "text": [
      " 39%|███▉      | 156001/400000 [7:16:13<6:22:36, 10.63it/s] "
     ]
    },
    {
     "name": "stdout",
     "output_type": "stream",
     "text": [
      "episode:  156000 Evaluation Average Reward: -0.18000000000000038\n"
     ]
    },
    {
     "name": "stderr",
     "output_type": "stream",
     "text": [
      " 40%|████      | 160002/400000 [7:24:02<8:42:41,  7.65it/s] "
     ]
    },
    {
     "name": "stdout",
     "output_type": "stream",
     "text": [
      "episode:  160000 Evaluation Average Reward: -0.23000000000000043\n"
     ]
    },
    {
     "name": "stderr",
     "output_type": "stream",
     "text": [
      " 41%|████      | 164000/400000 [7:31:59<5:50:12, 11.23it/s] "
     ]
    },
    {
     "name": "stdout",
     "output_type": "stream",
     "text": [
      "episode:  164000 Evaluation Average Reward: 0.02999999999999973\n"
     ]
    },
    {
     "name": "stderr",
     "output_type": "stream",
     "text": [
      " 42%|████▏     | 168003/400000 [7:39:42<6:08:47, 10.48it/s] "
     ]
    },
    {
     "name": "stdout",
     "output_type": "stream",
     "text": [
      "episode:  168000 Evaluation Average Reward: 0.32999999999999974\n"
     ]
    },
    {
     "name": "stderr",
     "output_type": "stream",
     "text": [
      " 43%|████▎     | 172002/400000 [7:47:11<10:21:46,  6.11it/s]"
     ]
    },
    {
     "name": "stdout",
     "output_type": "stream",
     "text": [
      "episode:  172000 Evaluation Average Reward: -0.040000000000000126\n"
     ]
    },
    {
     "name": "stderr",
     "output_type": "stream",
     "text": [
      " 44%|████▍     | 176002/400000 [7:54:51<5:18:52, 11.71it/s] "
     ]
    },
    {
     "name": "stdout",
     "output_type": "stream",
     "text": [
      "episode:  176000 Evaluation Average Reward: -0.00999999999999992\n"
     ]
    },
    {
     "name": "stderr",
     "output_type": "stream",
     "text": [
      " 45%|████▌     | 180002/400000 [8:02:24<7:00:04,  8.73it/s] "
     ]
    },
    {
     "name": "stdout",
     "output_type": "stream",
     "text": [
      "episode:  180000 Evaluation Average Reward: -0.38999999999999735\n"
     ]
    },
    {
     "name": "stderr",
     "output_type": "stream",
     "text": [
      " 46%|████▌     | 184002/400000 [8:09:57<7:01:39,  8.54it/s] "
     ]
    },
    {
     "name": "stdout",
     "output_type": "stream",
     "text": [
      "episode:  184000 Evaluation Average Reward: -0.7599999999999962\n"
     ]
    },
    {
     "name": "stderr",
     "output_type": "stream",
     "text": [
      " 47%|████▋     | 188002/400000 [8:17:14<7:25:45,  7.93it/s] "
     ]
    },
    {
     "name": "stdout",
     "output_type": "stream",
     "text": [
      "episode:  188000 Evaluation Average Reward: -0.3499999999999992\n"
     ]
    },
    {
     "name": "stderr",
     "output_type": "stream",
     "text": [
      " 48%|████▊     | 192001/400000 [8:24:39<7:53:43,  7.32it/s] "
     ]
    },
    {
     "name": "stdout",
     "output_type": "stream",
     "text": [
      "episode:  192000 Evaluation Average Reward: -0.28999999999999854\n"
     ]
    },
    {
     "name": "stderr",
     "output_type": "stream",
     "text": [
      " 49%|████▉     | 196003/400000 [8:32:12<4:32:27, 12.48it/s] "
     ]
    },
    {
     "name": "stdout",
     "output_type": "stream",
     "text": [
      "episode:  196000 Evaluation Average Reward: -0.5999999999999991\n"
     ]
    },
    {
     "name": "stderr",
     "output_type": "stream",
     "text": [
      " 50%|█████     | 200000/400000 [8:39:23<6:46:06,  8.21it/s] "
     ]
    },
    {
     "name": "stdout",
     "output_type": "stream",
     "text": [
      "episode:  200000 Evaluation Average Reward: 0.6000000000000003\n"
     ]
    },
    {
     "name": "stderr",
     "output_type": "stream",
     "text": [
      " 51%|█████     | 204001/400000 [8:46:36<4:44:33, 11.48it/s] "
     ]
    },
    {
     "name": "stdout",
     "output_type": "stream",
     "text": [
      "episode:  204000 Evaluation Average Reward: 0.25999999999999956\n"
     ]
    },
    {
     "name": "stderr",
     "output_type": "stream",
     "text": [
      " 52%|█████▏    | 208001/400000 [8:53:43<6:21:54,  8.38it/s] "
     ]
    },
    {
     "name": "stdout",
     "output_type": "stream",
     "text": [
      "episode:  208000 Evaluation Average Reward: 0.10999999999999985\n"
     ]
    },
    {
     "name": "stderr",
     "output_type": "stream",
     "text": [
      " 53%|█████▎    | 212003/400000 [9:00:40<5:21:10,  9.76it/s] "
     ]
    },
    {
     "name": "stdout",
     "output_type": "stream",
     "text": [
      "episode:  212000 Evaluation Average Reward: -0.7299999999999962\n"
     ]
    },
    {
     "name": "stderr",
     "output_type": "stream",
     "text": [
      " 54%|█████▍    | 216002/400000 [9:07:58<8:49:32,  5.79it/s] "
     ]
    },
    {
     "name": "stdout",
     "output_type": "stream",
     "text": [
      "episode:  216000 Evaluation Average Reward: -0.2500000000000004\n"
     ]
    },
    {
     "name": "stderr",
     "output_type": "stream",
     "text": [
      " 55%|█████▌    | 220003/400000 [9:14:54<6:49:14,  7.33it/s] "
     ]
    },
    {
     "name": "stdout",
     "output_type": "stream",
     "text": [
      "episode:  220000 Evaluation Average Reward: -0.48999999999999916\n"
     ]
    },
    {
     "name": "stderr",
     "output_type": "stream",
     "text": [
      " 56%|█████▌    | 224002/400000 [9:21:50<4:59:35,  9.79it/s] "
     ]
    },
    {
     "name": "stdout",
     "output_type": "stream",
     "text": [
      "episode:  224000 Evaluation Average Reward: -0.010000000000000453\n"
     ]
    },
    {
     "name": "stderr",
     "output_type": "stream",
     "text": [
      " 57%|█████▋    | 228004/400000 [9:29:02<4:36:43, 10.36it/s] "
     ]
    },
    {
     "name": "stdout",
     "output_type": "stream",
     "text": [
      "episode:  228000 Evaluation Average Reward: 0.36999999999999955\n"
     ]
    },
    {
     "name": "stderr",
     "output_type": "stream",
     "text": [
      " 58%|█████▊    | 232004/400000 [9:36:01<4:57:40,  9.41it/s] "
     ]
    },
    {
     "name": "stdout",
     "output_type": "stream",
     "text": [
      "episode:  232000 Evaluation Average Reward: -0.32\n"
     ]
    },
    {
     "name": "stderr",
     "output_type": "stream",
     "text": [
      " 59%|█████▉    | 236001/400000 [9:42:59<5:50:34,  7.80it/s]"
     ]
    },
    {
     "name": "stdout",
     "output_type": "stream",
     "text": [
      "episode:  236000 Evaluation Average Reward: 0.19999999999999996\n"
     ]
    },
    {
     "name": "stderr",
     "output_type": "stream",
     "text": [
      " 60%|██████    | 240003/400000 [9:49:56<4:50:40,  9.17it/s]"
     ]
    },
    {
     "name": "stdout",
     "output_type": "stream",
     "text": [
      "episode:  240000 Evaluation Average Reward: 0.5900000000000005\n"
     ]
    },
    {
     "name": "stderr",
     "output_type": "stream",
     "text": [
      " 61%|██████    | 244001/400000 [9:56:47<4:16:05, 10.15it/s]"
     ]
    },
    {
     "name": "stdout",
     "output_type": "stream",
     "text": [
      "episode:  244000 Evaluation Average Reward: 0.5399999999999999\n"
     ]
    },
    {
     "name": "stderr",
     "output_type": "stream",
     "text": [
      " 62%|██████▏   | 248002/400000 [10:03:38<4:49:36,  8.75it/s]"
     ]
    },
    {
     "name": "stdout",
     "output_type": "stream",
     "text": [
      "episode:  248000 Evaluation Average Reward: 0.4299999999999999\n"
     ]
    },
    {
     "name": "stderr",
     "output_type": "stream",
     "text": [
      " 63%|██████▎   | 252002/400000 [10:10:33<4:42:48,  8.72it/s]"
     ]
    },
    {
     "name": "stdout",
     "output_type": "stream",
     "text": [
      "episode:  252000 Evaluation Average Reward: -0.30999999999999855\n"
     ]
    },
    {
     "name": "stderr",
     "output_type": "stream",
     "text": [
      " 64%|██████▍   | 256005/400000 [10:17:29<3:14:36, 12.33it/s]"
     ]
    },
    {
     "name": "stdout",
     "output_type": "stream",
     "text": [
      "episode:  256000 Evaluation Average Reward: 0.3799999999999998\n"
     ]
    },
    {
     "name": "stderr",
     "output_type": "stream",
     "text": [
      " 65%|██████▌   | 260001/400000 [10:24:14<3:11:48, 12.17it/s]"
     ]
    },
    {
     "name": "stdout",
     "output_type": "stream",
     "text": [
      "episode:  260000 Evaluation Average Reward: 0.38999999999999957\n"
     ]
    },
    {
     "name": "stderr",
     "output_type": "stream",
     "text": [
      " 66%|██████▌   | 264003/400000 [10:31:07<3:39:33, 10.32it/s]"
     ]
    },
    {
     "name": "stdout",
     "output_type": "stream",
     "text": [
      "episode:  264000 Evaluation Average Reward: 0.3299999999999998\n"
     ]
    },
    {
     "name": "stderr",
     "output_type": "stream",
     "text": [
      " 67%|██████▋   | 268005/400000 [10:37:54<3:12:22, 11.44it/s]"
     ]
    },
    {
     "name": "stdout",
     "output_type": "stream",
     "text": [
      "episode:  268000 Evaluation Average Reward: 0.2799999999999997\n"
     ]
    },
    {
     "name": "stderr",
     "output_type": "stream",
     "text": [
      " 68%|██████▊   | 272004/400000 [10:44:53<3:26:54, 10.31it/s]"
     ]
    },
    {
     "name": "stdout",
     "output_type": "stream",
     "text": [
      "episode:  272000 Evaluation Average Reward: -0.26000000000000034\n"
     ]
    },
    {
     "name": "stderr",
     "output_type": "stream",
     "text": [
      " 69%|██████▉   | 276002/400000 [10:51:42<3:16:36, 10.51it/s]"
     ]
    },
    {
     "name": "stdout",
     "output_type": "stream",
     "text": [
      "episode:  276000 Evaluation Average Reward: 0.6600000000000001\n"
     ]
    },
    {
     "name": "stderr",
     "output_type": "stream",
     "text": [
      " 70%|███████   | 280001/400000 [10:58:35<5:04:13,  6.57it/s]"
     ]
    },
    {
     "name": "stdout",
     "output_type": "stream",
     "text": [
      "episode:  280000 Evaluation Average Reward: -0.050000000000000225\n"
     ]
    },
    {
     "name": "stderr",
     "output_type": "stream",
     "text": [
      " 71%|███████   | 284002/400000 [11:05:35<3:08:25, 10.26it/s]"
     ]
    },
    {
     "name": "stdout",
     "output_type": "stream",
     "text": [
      "episode:  284000 Evaluation Average Reward: 0.32\n"
     ]
    },
    {
     "name": "stderr",
     "output_type": "stream",
     "text": [
      " 72%|███████▏  | 288001/400000 [11:12:26<2:48:12, 11.10it/s]"
     ]
    },
    {
     "name": "stdout",
     "output_type": "stream",
     "text": [
      "episode:  288000 Evaluation Average Reward: 0.3399999999999997\n"
     ]
    },
    {
     "name": "stderr",
     "output_type": "stream",
     "text": [
      " 73%|███████▎  | 292002/400000 [11:19:19<2:28:00, 12.16it/s]"
     ]
    },
    {
     "name": "stdout",
     "output_type": "stream",
     "text": [
      "episode:  292000 Evaluation Average Reward: -0.23000000000000037\n"
     ]
    },
    {
     "name": "stderr",
     "output_type": "stream",
     "text": [
      " 74%|███████▍  | 296001/400000 [11:26:06<3:23:43,  8.51it/s]"
     ]
    },
    {
     "name": "stdout",
     "output_type": "stream",
     "text": [
      "episode:  296000 Evaluation Average Reward: 0.4799999999999997\n"
     ]
    },
    {
     "name": "stderr",
     "output_type": "stream",
     "text": [
      " 75%|███████▌  | 300002/400000 [11:32:41<2:30:59, 11.04it/s]"
     ]
    },
    {
     "name": "stdout",
     "output_type": "stream",
     "text": [
      "episode:  300000 Evaluation Average Reward: 0.28999999999999987\n"
     ]
    },
    {
     "name": "stderr",
     "output_type": "stream",
     "text": [
      " 76%|███████▌  | 304001/400000 [11:39:18<3:56:00,  6.78it/s]"
     ]
    },
    {
     "name": "stdout",
     "output_type": "stream",
     "text": [
      "episode:  304000 Evaluation Average Reward: 0.34999999999999953\n"
     ]
    },
    {
     "name": "stderr",
     "output_type": "stream",
     "text": [
      " 77%|███████▋  | 308003/400000 [11:46:09<2:42:52,  9.41it/s]"
     ]
    },
    {
     "name": "stdout",
     "output_type": "stream",
     "text": [
      "episode:  308000 Evaluation Average Reward: 0.2999999999999996\n"
     ]
    },
    {
     "name": "stderr",
     "output_type": "stream",
     "text": [
      " 78%|███████▊  | 312003/400000 [11:52:54<2:38:40,  9.24it/s]"
     ]
    },
    {
     "name": "stdout",
     "output_type": "stream",
     "text": [
      "episode:  312000 Evaluation Average Reward: 0.21999999999999953\n"
     ]
    },
    {
     "name": "stderr",
     "output_type": "stream",
     "text": [
      " 79%|███████▉  | 316002/400000 [11:59:39<2:50:07,  8.23it/s]"
     ]
    },
    {
     "name": "stdout",
     "output_type": "stream",
     "text": [
      "episode:  316000 Evaluation Average Reward: -1.4099999999999953\n"
     ]
    },
    {
     "name": "stderr",
     "output_type": "stream",
     "text": [
      " 80%|████████  | 320001/400000 [12:06:20<1:51:01, 12.01it/s]"
     ]
    },
    {
     "name": "stdout",
     "output_type": "stream",
     "text": [
      "episode:  320000 Evaluation Average Reward: 0.49999999999999983\n"
     ]
    },
    {
     "name": "stderr",
     "output_type": "stream",
     "text": [
      " 81%|████████  | 324004/400000 [12:13:01<2:16:00,  9.31it/s]"
     ]
    },
    {
     "name": "stdout",
     "output_type": "stream",
     "text": [
      "episode:  324000 Evaluation Average Reward: 0.23999999999999977\n"
     ]
    },
    {
     "name": "stderr",
     "output_type": "stream",
     "text": [
      " 82%|████████▏ | 328001/400000 [12:19:41<1:46:40, 11.25it/s]"
     ]
    },
    {
     "name": "stdout",
     "output_type": "stream",
     "text": [
      "episode:  328000 Evaluation Average Reward: 0.3399999999999997\n"
     ]
    },
    {
     "name": "stderr",
     "output_type": "stream",
     "text": [
      " 83%|████████▎ | 332001/400000 [12:26:25<1:50:44, 10.23it/s]"
     ]
    },
    {
     "name": "stdout",
     "output_type": "stream",
     "text": [
      "episode:  332000 Evaluation Average Reward: 0.51\n"
     ]
    },
    {
     "name": "stderr",
     "output_type": "stream",
     "text": [
      " 84%|████████▍ | 336001/400000 [12:33:14<2:12:03,  8.08it/s]"
     ]
    },
    {
     "name": "stdout",
     "output_type": "stream",
     "text": [
      "episode:  336000 Evaluation Average Reward: 0.16\n"
     ]
    },
    {
     "name": "stderr",
     "output_type": "stream",
     "text": [
      " 85%|████████▌ | 340001/400000 [12:39:58<1:49:21,  9.14it/s]"
     ]
    },
    {
     "name": "stdout",
     "output_type": "stream",
     "text": [
      "episode:  340000 Evaluation Average Reward: 0.5899999999999999\n"
     ]
    },
    {
     "name": "stderr",
     "output_type": "stream",
     "text": [
      " 86%|████████▌ | 344001/400000 [12:46:41<1:31:29, 10.20it/s]"
     ]
    },
    {
     "name": "stdout",
     "output_type": "stream",
     "text": [
      "episode:  344000 Evaluation Average Reward: -0.2700000000000004\n"
     ]
    },
    {
     "name": "stderr",
     "output_type": "stream",
     "text": [
      " 87%|████████▋ | 348003/400000 [12:53:24<1:15:17, 11.51it/s]"
     ]
    },
    {
     "name": "stdout",
     "output_type": "stream",
     "text": [
      "episode:  348000 Evaluation Average Reward: 0.2799999999999999\n"
     ]
    },
    {
     "name": "stderr",
     "output_type": "stream",
     "text": [
      " 88%|████████▊ | 352000/400000 [13:00:09<1:07:05, 11.93it/s]"
     ]
    },
    {
     "name": "stdout",
     "output_type": "stream",
     "text": [
      "episode:  352000 Evaluation Average Reward: 0.2099999999999997\n"
     ]
    },
    {
     "name": "stderr",
     "output_type": "stream",
     "text": [
      " 89%|████████▉ | 356004/400000 [13:06:50<48:07, 15.23it/s]  "
     ]
    },
    {
     "name": "stdout",
     "output_type": "stream",
     "text": [
      "episode:  356000 Evaluation Average Reward: 0.23999999999999955\n"
     ]
    },
    {
     "name": "stderr",
     "output_type": "stream",
     "text": [
      " 90%|█████████ | 360003/400000 [13:13:25<59:01, 11.29it/s]  "
     ]
    },
    {
     "name": "stdout",
     "output_type": "stream",
     "text": [
      "episode:  360000 Evaluation Average Reward: 0.46999999999999975\n"
     ]
    },
    {
     "name": "stderr",
     "output_type": "stream",
     "text": [
      " 91%|█████████ | 364002/400000 [13:20:16<1:03:41,  9.42it/s]"
     ]
    },
    {
     "name": "stdout",
     "output_type": "stream",
     "text": [
      "episode:  364000 Evaluation Average Reward: 0.20999999999999944\n"
     ]
    },
    {
     "name": "stderr",
     "output_type": "stream",
     "text": [
      " 92%|█████████▏| 368005/400000 [13:27:04<55:32,  9.60it/s]  "
     ]
    },
    {
     "name": "stdout",
     "output_type": "stream",
     "text": [
      "episode:  368000 Evaluation Average Reward: 0.29\n"
     ]
    },
    {
     "name": "stderr",
     "output_type": "stream",
     "text": [
      " 93%|█████████▎| 372001/400000 [13:33:59<1:08:54,  6.77it/s]"
     ]
    },
    {
     "name": "stdout",
     "output_type": "stream",
     "text": [
      "episode:  372000 Evaluation Average Reward: 0.3299999999999998\n"
     ]
    },
    {
     "name": "stderr",
     "output_type": "stream",
     "text": [
      " 94%|█████████▍| 376003/400000 [13:40:39<52:49,  7.57it/s]  "
     ]
    },
    {
     "name": "stdout",
     "output_type": "stream",
     "text": [
      "episode:  376000 Evaluation Average Reward: -0.24999999999999806\n"
     ]
    },
    {
     "name": "stderr",
     "output_type": "stream",
     "text": [
      " 95%|█████████▌| 380001/400000 [13:47:26<30:46, 10.83it/s]  "
     ]
    },
    {
     "name": "stdout",
     "output_type": "stream",
     "text": [
      "episode:  380000 Evaluation Average Reward: 0.15999999999999995\n"
     ]
    },
    {
     "name": "stderr",
     "output_type": "stream",
     "text": [
      " 96%|█████████▌| 384001/400000 [13:54:14<25:25, 10.49it/s]  "
     ]
    },
    {
     "name": "stdout",
     "output_type": "stream",
     "text": [
      "episode:  384000 Evaluation Average Reward: 0.0599999999999999\n"
     ]
    },
    {
     "name": "stderr",
     "output_type": "stream",
     "text": [
      " 97%|█████████▋| 388001/400000 [14:01:03<17:58, 11.13it/s]"
     ]
    },
    {
     "name": "stdout",
     "output_type": "stream",
     "text": [
      "episode:  388000 Evaluation Average Reward: 0.38999999999999957\n"
     ]
    },
    {
     "name": "stderr",
     "output_type": "stream",
     "text": [
      " 98%|█████████▊| 392003/400000 [14:07:52<11:42, 11.39it/s]"
     ]
    },
    {
     "name": "stdout",
     "output_type": "stream",
     "text": [
      "episode:  392000 Evaluation Average Reward: 0.3899999999999997\n"
     ]
    },
    {
     "name": "stderr",
     "output_type": "stream",
     "text": [
      " 99%|█████████▉| 396002/400000 [14:14:34<06:11, 10.76it/s]"
     ]
    },
    {
     "name": "stdout",
     "output_type": "stream",
     "text": [
      "episode:  396000 Evaluation Average Reward: 0.4199999999999996\n"
     ]
    },
    {
     "name": "stderr",
     "output_type": "stream",
     "text": [
      "100%|██████████| 400000/400000 [14:21:25<00:00,  7.74it/s]\n"
     ]
    }
   ],
   "source": [
    "EPISODE = 4000*100\n",
    "all_episode += EPISODE\n",
    "for episode in trange(EPISODE):\n",
    "\n",
    "    # Train\n",
    "    state = env.reset()\n",
    "    for step in range(STEP):\n",
    "        action = agent.egreedy_action(state) # e-greedy action for train\n",
    "        next_state,reward,done,_ = env.step(action)\n",
    "        agent.perceive(state,action,reward,next_state,done)\n",
    "        state = next_state\n",
    "        if done:\n",
    "            break\n",
    "\n",
    "    # Test\n",
    "    if (episode % 100) == 0:\n",
    "        total_reward = 0\n",
    "        for i in range(TEST):\n",
    "            state = env.reset()\n",
    "            for j in range(STEP):\n",
    "                action = agent.action(state) # direct action for test\n",
    "                state,reward,done,_ = env.step(action)\n",
    "                total_reward += reward\n",
    "                if done:\n",
    "                    break\n",
    "        ave_reward = total_reward/TEST\n",
    "        \n",
    "        all_reward.append( ave_reward )\n",
    "        if (episode % (EPISODE//100)) == 0:\n",
    "            print ('episode: ',episode,'Evaluation Average Reward:',ave_reward)"
   ]
  },
  {
   "cell_type": "code",
   "execution_count": 17,
   "metadata": {},
   "outputs": [
    {
     "name": "stdout",
     "output_type": "stream",
     "text": [
      "400000 4000\n"
     ]
    }
   ],
   "source": [
    "print (all_episode, len(all_reward))"
   ]
  },
  {
   "cell_type": "code",
   "execution_count": 19,
   "metadata": {},
   "outputs": [],
   "source": [
    "import numpy as np\n",
    "\n",
    "%matplotlib inline\n",
    "import matplotlib.pyplot as plt"
   ]
  },
  {
   "cell_type": "code",
   "execution_count": 20,
   "metadata": {},
   "outputs": [
    {
     "data": {
      "image/png": "[encoded data removed]",
      "text/plain": [
       "<Figure size 432x288 with 1 Axes>"
      ]
     },
     "metadata": {
      "needs_background": "light"
     },
     "output_type": "display_data"
    }
   ],
   "source": [
    "fig = plt.figure()\n",
    "ax = fig.add_subplot(111)\n",
    "# ax.plot([1, 2, 3, 4], [10, 20, 25, 30], color='lightblue', linewidth=3) # plot line\n",
    "ax.scatter(range(len(all_reward)), all_reward, color='green', marker='*') # plot points\n",
    "plt.title('Reward Distribution')\n",
    "plt.xlabel('Episodes in terms of 10k')\n",
    "plt.ylabel('Reward score')\n",
    "# ax.set_xlim(0.5, 4.5)\n",
    "plt.show()"
   ]
  },
  {
   "cell_type": "code",
   "execution_count": 21,
   "metadata": {},
   "outputs": [],
   "source": [
    "mean_reward=[]\n",
    "for i in range( len(all_reward) - 100 ):\n",
    "    mean_reward.append( mean(all_reward[i:i+100]) )"
   ]
  },
  {
   "cell_type": "code",
   "execution_count": 22,
   "metadata": {},
   "outputs": [],
   "source": [
    "max_reward=[]\n",
    "for i in range( len(all_reward) - 100 ):\n",
    "    max_reward.append( max(all_reward[i:i+100]) )"
   ]
  },
  {
   "cell_type": "code",
   "execution_count": 23,
   "metadata": {},
   "outputs": [],
   "source": [
    "min_reward=[]\n",
    "for i in range( len(all_reward) - 100 ):\n",
    "    min_reward.append( min(all_reward[i:i+100]) )"
   ]
  },
  {
   "cell_type": "code",
   "execution_count": 24,
   "metadata": {},
   "outputs": [
    {
     "data": {
      "image/png": "[encoded data removed]",
      "text/plain": [
       "<Figure size 432x288 with 1 Axes>"
      ]
     },
     "metadata": {
      "needs_background": "light"
     },
     "output_type": "display_data"
    }
   ],
   "source": [
    "fig = plt.figure()\n",
    "ax = fig.add_subplot(111)\n",
    "ax.plot(range(len(mean_reward)), mean_reward, color='black', linewidth=1, label = \"Mean reward\") # plot line\n",
    "ax.plot(range(len(max_reward)), max_reward, color='red', linewidth=1, label = 'Max reward') # plot line\n",
    "ax.plot(range(len(min_reward)), min_reward, color='blue', linewidth=1, label = 'Min reward') # plot line\n",
    "ax.set_ylim(-5, 1)\n",
    "ax.set_xlim(0, 3500)\n",
    "ax.set_xlabel(\"Learning cycles\")\n",
    "ax.set_ylabel(\"Reward\")\n",
    "plt.grid(True)\n",
    "plt.show()"
   ]
  },
  {
   "cell_type": "markdown",
   "metadata": {
    "collapsed": true
   },
   "source": [
    "> Check and test."
   ]
  },
  {
   "cell_type": "code",
   "execution_count": 25,
   "metadata": {},
   "outputs": [
    {
     "name": "stderr",
     "output_type": "stream",
     "text": [
      "100%|██████████| 3000/3000 [00:29<00:00, 101.34it/s]"
     ]
    },
    {
     "name": "stdout",
     "output_type": "stream",
     "text": [
      "reach:  2948 collision:  16 other:  36\n"
     ]
    },
    {
     "name": "stderr",
     "output_type": "stream",
     "text": [
      "\n"
     ]
    }
   ],
   "source": [
    "reach = 0\n",
    "collision = 0\n",
    "test_num = 3000\n",
    "for i in trange( test_num ):\n",
    "\n",
    "    state = env.reset()\n",
    "    for j in range(STEP):\n",
    "        action = agent.action(state) # direct action for test\n",
    "        state,reward,done,info = env.step(action)\n",
    "        total_reward += reward\n",
    "        if done:\n",
    "            # print info\n",
    "\n",
    "            if info == \"reach\":\n",
    "                reach += 1\n",
    "            if info == \"collision\":\n",
    "                collision += 1\n",
    "\n",
    "            break\n",
    "print( \"reach: \", reach, \"collision: \", collision, \"other: \", ( test_num - reach - collision ) )"
   ]
  },
  {
   "cell_type": "markdown",
   "metadata": {},
   "source": [
    "> Fetch out the push-pull states"
   ]
  },
  {
   "cell_type": "code",
   "execution_count": 26,
   "metadata": {
    "scrolled": false
   },
   "outputs": [
    {
     "name": "stdout",
     "output_type": "stream",
     "text": [
      "state_0:  [-1.1, -0.4, -2.0, -1.8, -0.4, 1.0] \n",
      "\n",
      "state_0:  [0.5, -1.5, -1.9000000000000001, 1.4000000000000001, 1.7000000000000002, -1.8] \n",
      "\n",
      "state_0:  [-1.3, 0.30000000000000004, -1.9000000000000001, -1.4000000000000001, 1.7000000000000002, 1.7000000000000002] \n",
      "\n",
      "reach:  197 collision:  0\n"
     ]
    }
   ],
   "source": [
    "reach = 0\n",
    "collision = 0\n",
    "for i in range(200):\n",
    "\n",
    "    state = env.reset()\n",
    "    state_0 = state.copy()\n",
    "    is_push_pull = 1\n",
    "    for j in range(STEP):\n",
    "        action = agent.action(state) # direct action for test\n",
    "        state,reward,done,info = env.step(action)\n",
    "        total_reward += reward\n",
    "        if done:\n",
    "            # print info\n",
    "\n",
    "            if info == \"reach\":\n",
    "                reach += 1\n",
    "                is_push_pull = 0\n",
    "            elif info == \"collision\":\n",
    "                collision += 1\n",
    "                is_push_pull = 0\n",
    "\n",
    "            break\n",
    "    if is_push_pull:\n",
    "        print( \"state_0: \", state_0.tolist(), \"\\n\" )\n",
    "    \n",
    "print( \"reach: \", reach, \"collision: \", collision )"
   ]
  },
  {
   "cell_type": "markdown",
   "metadata": {},
   "source": [
    "> Save model."
   ]
  },
  {
   "cell_type": "code",
   "execution_count": 27,
   "metadata": {},
   "outputs": [],
   "source": [
    "W1, b1, W2, b2, W3, b3 = agent.obtain_wb()"
   ]
  },
  {
   "cell_type": "code",
   "execution_count": 28,
   "metadata": {},
   "outputs": [],
   "source": [
    "np.save('W1', W1)\n",
    "np.save('W2', W2)\n",
    "np.save('W3', W3)\n",
    "\n",
    "np.save('b1', b1)\n",
    "np.save('b2', b2)\n",
    "np.save('b3', b3)"
   ]
  },
  {
   "cell_type": "markdown",
   "metadata": {},
   "source": [
    "> Plot trajectory."
   ]
  },
  {
   "cell_type": "code",
   "execution_count": 37,
   "metadata": {},
   "outputs": [],
   "source": [
    "state_0 = np.array( [0.4, 1.8, -1, 1.6, 1.2000000000000002, -1.7000000000000002] )"
   ]
  },
  {
   "cell_type": "code",
   "execution_count": 38,
   "metadata": {},
   "outputs": [
    {
     "name": "stdout",
     "output_type": "stream",
     "text": [
      "reach:  1 collision:  0\n"
     ]
    }
   ],
   "source": [
    "reach = 0\n",
    "collision = 0\n",
    "for i in range( 1 ):\n",
    "\n",
    "    state = env.reset( state_0 )\n",
    "    state_0 = state.copy()\n",
    "    is_push_pull = 1\n",
    "    act_save = []\n",
    "    trajectory = [ state[ [4,5] ].copy() ]\n",
    "    for j in range(STEP):\n",
    "        action = agent.action(state) # direct action for test\n",
    "        act_save.append( action )\n",
    "        state,reward,done,info = env.step(action)\n",
    "        trajectory.append( state[ [4,5] ].copy() )\n",
    "        total_reward += reward\n",
    "        if done:\n",
    "\n",
    "            if info == \"reach\":\n",
    "                reach += 1\n",
    "                is_push_pull = 0\n",
    "            else:\n",
    "                if info == \"collision\":\n",
    "                    collision += 1\n",
    "                    is_push_pull = 0\n",
    "                else:\n",
    "                    print( \"state_0: \", state_0 )\n",
    "\n",
    "            break\n",
    "    if is_push_pull:\n",
    "        print( \"state_0: \", state_0 )\n",
    "        print( \"act_save: \", act_save )\n",
    "    \n",
    "print (\"reach: \", reach, \"collision: \", collision)"
   ]
  },
  {
   "cell_type": "code",
   "execution_count": 39,
   "metadata": {},
   "outputs": [],
   "source": [
    "x_o = state_0[0]\n",
    "y_o = state_0[1]\n",
    "x_t = state_0[2]\n",
    "y_t = state_0[3]\n",
    "x_m = state_0[4]\n",
    "y_m = state_0[5]"
   ]
  },
  {
   "cell_type": "code",
   "execution_count": 33,
   "metadata": {},
   "outputs": [],
   "source": [
    "import numpy as np\n",
    "\n",
    "%matplotlib inline\n",
    "import matplotlib.pyplot as plt\n",
    "import matplotlib.patches as patches"
   ]
  },
  {
   "cell_type": "code",
   "execution_count": 40,
   "metadata": {},
   "outputs": [
    {
     "data": {
      "image/png": "[encoded data removed]",
      "text/plain": [
       "<Figure size 432x432 with 1 Axes>"
      ]
     },
     "metadata": {
      "needs_background": "light"
     },
     "output_type": "display_data"
    }
   ],
   "source": [
    "if True:\n",
    "    fig = plt.figure( figsize=(6,6) )\n",
    "    ax = fig.add_subplot(111)\n",
    "\n",
    "    ax.add_patch(\n",
    "        patches.Rectangle(\n",
    "            (-3, -3),\n",
    "            6,\n",
    "            6,\n",
    "            color=\"grey\"\n",
    "        )\n",
    "    )\n",
    "    ax.add_patch(\n",
    "        patches.Rectangle(\n",
    "            (-2, -2),\n",
    "            4,\n",
    "            4,\n",
    "            color=\"black\"\n",
    "        )\n",
    "    )\n",
    "    \n",
    "    ax.add_patch(\n",
    "        patches.Rectangle(\n",
    "            (x_o-0.5, y_o-0.5),\n",
    "            1,\n",
    "            1,\n",
    "            color=\"red\",\n",
    "            hatch=\"x\"\n",
    "        )\n",
    "    )\n",
    "    \n",
    "    ax.add_patch(\n",
    "        patches.Rectangle(\n",
    "            (x_t-0.5, y_t-0.5),\n",
    "            1,\n",
    "            1,\n",
    "            color=\"green\",\n",
    "            hatch=\"+\"\n",
    "        )\n",
    "    )\n",
    "    ax.add_patch(\n",
    "        patches.Rectangle(\n",
    "            (x_m-0.5, y_m-0.5),\n",
    "            1,\n",
    "            1,\n",
    "            color=\"blue\",\n",
    "            hatch=\".\"\n",
    "        )\n",
    "    )\n",
    "    ax.set_xlim(-4, 4)\n",
    "    ax.set_ylim(-4, 4)\n",
    "    \n",
    "    # plt.grid(True)\n",
    "    \n",
    "    for i in range( len(trajectory)-1 ):\n",
    "        j = i+1\n",
    "        # plot lines\n",
    "        ax.plot( [trajectory[i][0], trajectory[j][0]], [trajectory[i][1], trajectory[j][1]] , color=\"white\", linewidth=2)\n",
    "    \n",
    "    plt.show()"
   ]
  },
  {
   "cell_type": "code",
   "execution_count": null,
   "metadata": {},
   "outputs": [],
   "source": []
  }
 ],
 "metadata": {
  "interpreter": {
   "hash": "f56ac4c38c2cebae6d9d497d6f13db5f7cc4bacedc3e8ad0424f96956c08f9bd"
  },
  "kernelspec": {
   "display_name": "Python 2",
   "language": "python",
   "name": "python3"
  },
  "language_info": {
   "codemirror_mode": {
    "name": "ipython",
    "version": 3
   },
   "file_extension": ".py",
   "mimetype": "text/x-python",
   "name": "python",
   "nbconvert_exporter": "python",
   "pygments_lexer": "ipython3",
   "version": "3.8.12"
  }
 },
 "nbformat": 4,
 "nbformat_minor": 2
}
